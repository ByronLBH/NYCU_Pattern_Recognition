{
 "cells": [
  {
   "cell_type": "code",
   "execution_count": 1,
   "metadata": {
    "id": "Z0yGksgOp91i"
   },
   "outputs": [],
   "source": [
    "import numpy as np\n",
    "import pandas as pd\n",
    "import matplotlib.pyplot as plt\n",
    "from sklearn.svm import SVC, SVR\n",
    "from sklearn.metrics import accuracy_score"
   ]
  },
  {
   "cell_type": "code",
   "execution_count": 2,
   "metadata": {
    "id": "7ZYQFbA0qMZ-"
   },
   "outputs": [],
   "source": [
    "# Load data\n",
    "x_train = np.load(\"x_train.npy\")\n",
    "y_train = np.load(\"y_train.npy\")\n",
    "x_test = np.load(\"x_test.npy\")\n",
    "y_test = np.load(\"y_test.npy\")"
   ]
  },
  {
   "cell_type": "code",
   "execution_count": 3,
   "metadata": {
    "id": "u0ewnfh6qOoM"
   },
   "outputs": [
    {
     "name": "stdout",
     "output_type": "stream",
     "text": [
      "(7000, 300)\n",
      "(7000,)\n",
      "(3000, 300)\n"
     ]
    }
   ],
   "source": [
    "# 7000 data with 300 features\n",
    "print(x_train.shape)\n",
    "print(y_train.shape)\n",
    "print(x_test.shape)"
   ]
  },
  {
   "cell_type": "code",
   "execution_count": 4,
   "metadata": {
    "id": "ryZdU0fdqTkb"
   },
   "outputs": [
    {
     "name": "stdout",
     "output_type": "stream",
     "text": [
      "[0 1]\n"
     ]
    }
   ],
   "source": [
    "# It's a binary classification problem \n",
    "print(np.unique(y_train))"
   ]
  },
  {
   "cell_type": "markdown",
   "metadata": {
    "id": "qy1aMJ7sqwwg"
   },
   "source": [
    "# Q1"
   ]
  },
  {
   "cell_type": "code",
   "execution_count": 5,
   "metadata": {
    "id": "TI26_jRbqVX3"
   },
   "outputs": [],
   "source": [
    "def cross_validation(x_train, y_train, k=5):\n",
    "    num_samples=len(x_train)\n",
    "    indice=np.arange(num_samples)\n",
    "    np.random.shuffle(indice)\n",
    "    fold_sizes=np.full(k,num_samples//k)\n",
    "    fold_sizes[:num_samples%k]+=1\n",
    "    current=0\n",
    "    k_folds=[]\n",
    "\n",
    "    for fold_size in fold_sizes:\n",
    "        validation_indice=indice[current:current+fold_size]\n",
    "        training_indice=np.concatenate([indice[:current],indice[current+fold_size:]])\n",
    "        k_folds.append([training_indice,validation_indice])\n",
    "        current+=fold_size\n",
    "\n",
    "    return k_folds\n",
    "\n",
    "\n"
   ]
  },
  {
   "cell_type": "code",
   "execution_count": 6,
   "metadata": {},
   "outputs": [
    {
     "name": "stdout",
     "output_type": "stream",
     "text": [
      "10\n",
      "2\n",
      "700\n"
     ]
    }
   ],
   "source": [
    "kfold_data = cross_validation(x_train, y_train, k=10)\n",
    "print(len(kfold_data))\n",
    "print(len(kfold_data[0]))\n",
    "print(kfold_data[1][1].shape[0])"
   ]
  },
  {
   "cell_type": "code",
   "execution_count": 7,
   "metadata": {
    "id": "7jTma6saqf3E"
   },
   "outputs": [],
   "source": [
    "kfold_data = cross_validation(x_train, y_train, k=10)\n",
    "assert len(kfold_data) == 10 # should contain 10 fold of data\n",
    "assert len(kfold_data[0]) == 2 # each element should contain train fold and validation fold\n",
    "assert kfold_data[0][1].shape[0] == 700 # The number of data in each validation fold should equal to training data divieded by K"
   ]
  },
  {
   "cell_type": "markdown",
   "metadata": {
    "id": "IccJcpN_q0Z0"
   },
   "source": [
    "# K-Fold Example"
   ]
  },
  {
   "cell_type": "code",
   "execution_count": 8,
   "metadata": {
    "id": "O_zT2TAzqjay"
   },
   "outputs": [
    {
     "name": "stdout",
     "output_type": "stream",
     "text": [
      "Split: 1, Training index: [ 0  2  3  5  6  7  8  9 12 13 14 15 16 17 18 19], Validation index: [ 1  4 10 11]\n",
      "Split: 2, Training index: [ 1  2  3  4  5  6  7  8 10 11 13 14 15 17 18 19], Validation index: [ 0  9 12 16]\n",
      "Split: 3, Training index: [ 0  1  3  4  5  8  9 10 11 12 14 15 16 17 18 19], Validation index: [ 2  6  7 13]\n",
      "Split: 4, Training index: [ 0  1  2  3  4  5  6  7  8  9 10 11 12 13 16 17], Validation index: [14 15 18 19]\n",
      "Split: 5, Training index: [ 0  1  2  4  6  7  9 10 11 12 13 14 15 16 18 19], Validation index: [ 3  5  8 17]\n"
     ]
    }
   ],
   "source": [
    "from sklearn.model_selection import KFold\n",
    "\n",
    "X = np.arange(20)\n",
    "\n",
    "kf = KFold(n_splits=5, shuffle=True)\n",
    "kfold_data= []\n",
    "for i, (train_index, val_index) in enumerate(kf.split(X)):\n",
    "    print(\"Split: %s, Training index: %s, Validation index: %s\" % (i+1, train_index, val_index))\n",
    "    kfold_data.append([train_index, val_index])"
   ]
  },
  {
   "cell_type": "code",
   "execution_count": 9,
   "metadata": {
    "id": "lYCTmie5qnow"
   },
   "outputs": [],
   "source": [
    "assert len(kfold_data) == 5 # should contain 5 fold of data\n",
    "assert len(kfold_data[0]) == 2 # each element should contains index of training fold and validation fold\n",
    "assert kfold_data[0][1].shape[0] == 4 # The number of data in each validation fold should equal to training data divieded by K"
   ]
  },
  {
   "cell_type": "markdown",
   "metadata": {
    "id": "Gh-DQiNiq5v0"
   },
   "source": [
    "## Q2"
   ]
  },
  {
   "cell_type": "code",
   "execution_count": 10,
   "metadata": {
    "id": "31V1fW7Qq6la"
   },
   "outputs": [],
   "source": [
    "# (Example) Using SVC from sklearn\n",
    "\n",
    "clf = SVC(C=1.0, gamma=0.01, kernel='rbf')"
   ]
  },
  {
   "cell_type": "code",
   "execution_count": 11,
   "metadata": {
    "id": "VzBT0t6Yq_Dj"
   },
   "outputs": [],
   "source": [
    "best_c, best_gamma = None, None\n",
    "kfold_data = cross_validation(x_train, y_train, k=5)\n",
    "c_list=[0.01,0.1,1,10]\n",
    "gamma_list=[0.0001,0.001,0.01,0.1]\n",
    "acc_score=np.zeros((len(c_list),len(gamma_list)))\n",
    "best_acc=0\n",
    "\n",
    "for i in range(len(c_list)):\n",
    "    for j in range(len(gamma_list)):\n",
    "        score=0\n",
    "        for train_idx ,val_idx in kfold_data:\n",
    "           clf=SVC(C=c_list[i],gamma=gamma_list[j],kernel='rbf')\n",
    "           clf.fit(x_train[train_idx],y_train[train_idx])\n",
    "           score+=clf.score(x_train[val_idx],y_train[val_idx])\n",
    "        \n",
    "        acc_score[i][j]=score/5\n",
    "        if acc_score[i][j]>best_acc:\n",
    "            best_c=c_list[i]\n",
    "            best_gamma=gamma_list[j]\n",
    "            best_acc=acc_score[i][j]\n",
    "# TODO HERE\n",
    "# k-Flod Cross Validation and Grid Search\n",
    "best_parameters=(best_c, best_gamma)\n"
   ]
  },
  {
   "cell_type": "code",
   "execution_count": 12,
   "metadata": {
    "id": "mGTyHMFgrAXd"
   },
   "outputs": [
    {
     "name": "stdout",
     "output_type": "stream",
     "text": [
      "(best_c, best_gamma) is  (1, 0.0001)\n"
     ]
    }
   ],
   "source": [
    "print(\"(best_c, best_gamma) is \", best_parameters)"
   ]
  },
  {
   "cell_type": "markdown",
   "metadata": {
    "id": "KbPoOy0lrDPJ"
   },
   "source": [
    "# Q3"
   ]
  },
  {
   "cell_type": "code",
   "execution_count": 13,
   "metadata": {
    "id": "ibuxQOEQrEgJ"
   },
   "outputs": [
    {
     "data": {
      "image/png": "[encoded data removed]",
      "text/plain": [
       "<Figure size 432x288 with 2 Axes>"
      ]
     },
     "metadata": {
      "needs_background": "light"
     },
     "output_type": "display_data"
    }
   ],
   "source": [
    "# Plot the grid search results of your SVM\n",
    "\n",
    "# TODO HERE\n",
    "cm = acc_score\n",
    "        \n",
    "# Create a figure and axis object\n",
    "fig, ax = plt.subplots()\n",
    "# Plot the confusion matrix using imshow\n",
    "im = ax.imshow(cm, cmap='Blues')\n",
    "\n",
    "# Add a colorbar to the plot\n",
    "cbar = ax.figure.colorbar(im, ax=ax)\n",
    "\n",
    "# Add axis labels and a title to the plot\n",
    "ax.set_xlabel('Gamma parameter')\n",
    "ax.set_ylabel('C parameter')\n",
    "ax.set_title('Hyperparameter Gridsearch')\n",
    "\n",
    "# Add tick marks to the plot\n",
    "tick_marks = np.arange(len(cm))\n",
    "ax.set_xticks(tick_marks)\n",
    "ax.set_yticks(tick_marks)\n",
    "\n",
    "# Add labels to the tick marks\n",
    "x_class_labels = gamma_list\n",
    "y_class_labels = c_list\n",
    "ax.set_xticklabels(x_class_labels)\n",
    "ax.set_yticklabels(y_class_labels)\n",
    "\n",
    "# Add the actual numbers to the plot\n",
    "thresh = cm.max() / 2.0\n",
    "for i in range(cm.shape[0]):\n",
    "    for j in range(cm.shape[1]):\n",
    "        ax.text(j, i, format(cm[i, j], 'f'),\n",
    "                ha=\"center\", va=\"center\",\n",
    "                color=\"white\" if cm[i, j] > thresh else \"black\")\n",
    "\n",
    "# Show the plot\n",
    "plt.show()\n"
   ]
  },
  {
   "cell_type": "markdown",
   "metadata": {
    "id": "QVA-It-4rM9Q"
   },
   "source": [
    "## Q4"
   ]
  },
  {
   "cell_type": "code",
   "execution_count": 14,
   "metadata": {
    "id": "Zl963HdLrMKg"
   },
   "outputs": [
    {
     "name": "stdout",
     "output_type": "stream",
     "text": [
      "Accuracy score:  0.995\n"
     ]
    }
   ],
   "source": [
    "# Do Not Modify Below\n",
    "\n",
    "best_model = SVC(C=best_parameters[0], gamma=best_parameters[1], kernel='rbf')\n",
    "best_model.fit(x_train, y_train)\n",
    "\n",
    "y_pred = best_model.predict(x_test)\n",
    "\n",
    "print(\"Accuracy score: \", accuracy_score(y_pred, y_test))\n",
    "\n",
    "# If your accuracy here > 0.9 then you will get full credit (20 points)."
   ]
  }
 ],
 "metadata": {
  "colab": {
   "provenance": []
  },
  "kernelspec": {
   "display_name": "Python 3 (ipykernel)",
   "language": "python",
   "name": "python3"
  },
  "language_info": {
   "codemirror_mode": {
    "name": "ipython",
    "version": 3
   },
   "file_extension": ".py",
   "mimetype": "text/x-python",
   "name": "python",
   "nbconvert_exporter": "python",
   "pygments_lexer": "ipython3",
   "version": "3.9.12"
  },
  "vscode": {
   "interpreter": {
    "hash": "2dafc9818e2680afefcb30271426368bee6f11cde5b82a7c0b85f0135f5a01d1"
   }
  }
 },
 "nbformat": 4,
 "nbformat_minor": 1
}
