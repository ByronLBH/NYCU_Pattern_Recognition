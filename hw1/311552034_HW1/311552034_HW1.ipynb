{
  "cells": [
    {
      "cell_type": "code",
      "execution_count": 121,
      "metadata": {
        "colab": {
          "base_uri": "https://localhost:8080/"
        },
        "id": "2UCHEgmFnm56",
        "outputId": "35ba2190-7319-4cce-ccea-c7670f09c3b9"
      },
      "outputs": [],
      "source": [
        "import numpy as np\n",
        "import pandas as pd\n",
        "import matplotlib.pyplot as plt \n",
        "%matplotlib inline "
      ]
    },
    {
      "cell_type": "markdown",
      "metadata": {},
      "source": []
    },
    {
      "cell_type": "code",
      "execution_count": 122,
      "metadata": {
        "id": "TsewcLvXnm5_"
      },
      "outputs": [],
      "source": [
        "# TODO\n",
        "# Implement the linear regression using gradient descent by only numpy\n",
        "\n",
        "class LinearRegression:\n",
        "    \n",
        "    def __init__(self):\n",
        "        \n",
        "        print(\"Don't cheat.\")\n",
        "        self.epoch = []\n",
        "        self.train_loss = []\n",
        "        self.weights = None\n",
        "\n",
        "    def fit(self, X, y, lr=0.001, epochs=100, batch_size=1):\n",
        "        \n",
        "        #self.weights=np.zeros((X.shape[1]+1,1))\n",
        "        self.weights=np.random.randn(X.shape[1]+1,1)\n",
        "        for epoch in range(epochs):\n",
        "            \n",
        "            for batch in range(len(X)//batch_size):\n",
        "               \n",
        "               X_batch= X[batch*batch_size : (batch+1)*batch_size]\n",
        "               y_batch = y[batch*batch_size : (batch+1)*batch_size]\n",
        "               y_batch = y_batch.reshape(( y_batch.shape[0] ,1))\n",
        "               X_batch= np.concatenate((X_batch, np.ones((X_batch.shape[0], 1))), axis=1)\n",
        "\n",
        "               # Compute predictions and errors\n",
        "               y_pred = self.predict(X_batch)\n",
        "               errors = y_batch-y_pred\n",
        "               \n",
        "               \n",
        "                \n",
        "               # Update weights using gradient descent\n",
        "               gradient = -np.dot(X_batch.T, errors) / len(X_batch)\n",
        "               self.weights -= lr * gradient\n",
        "               \n",
        "            self.epoch.append(epoch)\n",
        "            self.train_loss.append(self.get_loss(X_batch, y_batch))\n",
        "\n",
        "    def get_loss(self, X, y):\n",
        "        y=y.reshape(( y.shape[0] ,1))\n",
        "        y_pred=self.predict(X)\n",
        "        mse = np.mean(np.square(np.subtract(y,y_pred))) #MSE\n",
        "        return mse\n",
        "        \n",
        "\n",
        "    def predict(self, X):\n",
        "        y_pred = np.matmul(X,self.weights)\n",
        "        return y_pred\n",
        "                \n",
        "    def evaluate(self, X, y):\n",
        "        X_with_bias = np.concatenate((X,np.ones((X.shape[0],1))), axis=1)\n",
        "        y_pred=self.predict(X_with_bias)\n",
        "        y=y.reshape((len(y),1))\n",
        "        y_pred=y_pred.reshape((len(y_pred),1))\n",
        "        loss=np.mean(np.square(y-y_pred))\n",
        "        return loss\n",
        "        \n",
        "    def plot_curve(self):\n",
        "        # self.epoch and self.train_loss may be helpful here. \n",
        "        plt.plot(self.epoch, self.train_loss)\n",
        "        plt.xlabel(\"Epoch\")\n",
        "        plt.ylabel(\"Training Loss\")\n",
        "        plt.show() \n",
        "       "
      ]
    },
    {
      "cell_type": "markdown",
      "metadata": {
        "id": "vE0LqmRdnm6B"
      },
      "source": [
        "# Load data & data pre-processing"
      ]
    },
    {
      "cell_type": "code",
      "execution_count": 123,
      "metadata": {
        "id": "nS5JuNtvnm6C"
      },
      "outputs": [],
      "source": [
        "df_train = pd.DataFrame(pd.read_csv(\"./regression_train.csv\"))\n",
        "df_val   = pd.DataFrame(pd.read_csv(\"./regression_val.csv\"))\n",
        "df_test  = pd.DataFrame(pd.read_csv(\"./regression_test.csv\"))\n",
        "\n"
      ]
    },
    {
      "cell_type": "code",
      "execution_count": 124,
      "metadata": {
        "colab": {
          "base_uri": "https://localhost:8080/",
          "height": 206
        },
        "id": "8ZxnlaLdnm6C",
        "outputId": "64b33088-36fa-4d3a-821a-1fab16757cdc"
      },
      "outputs": [
        {
          "data": {
            "text/html": [
              "<div>\n",
              "<style scoped>\n",
              "    .dataframe tbody tr th:only-of-type {\n",
              "        vertical-align: middle;\n",
              "    }\n",
              "\n",
              "    .dataframe tbody tr th {\n",
              "        vertical-align: top;\n",
              "    }\n",
              "\n",
              "    .dataframe thead th {\n",
              "        text-align: right;\n",
              "    }\n",
              "</style>\n",
              "<table border=\"1\" class=\"dataframe\">\n",
              "  <thead>\n",
              "    <tr style=\"text-align: right;\">\n",
              "      <th></th>\n",
              "      <th>age</th>\n",
              "      <th>sex</th>\n",
              "      <th>bmi</th>\n",
              "      <th>children</th>\n",
              "      <th>smoker</th>\n",
              "      <th>region</th>\n",
              "      <th>charges</th>\n",
              "    </tr>\n",
              "  </thead>\n",
              "  <tbody>\n",
              "    <tr>\n",
              "      <th>0</th>\n",
              "      <td>19</td>\n",
              "      <td>female</td>\n",
              "      <td>27.900</td>\n",
              "      <td>0</td>\n",
              "      <td>yes</td>\n",
              "      <td>southwest</td>\n",
              "      <td>16884.92400</td>\n",
              "    </tr>\n",
              "    <tr>\n",
              "      <th>1</th>\n",
              "      <td>18</td>\n",
              "      <td>male</td>\n",
              "      <td>33.770</td>\n",
              "      <td>1</td>\n",
              "      <td>no</td>\n",
              "      <td>southeast</td>\n",
              "      <td>1725.55230</td>\n",
              "    </tr>\n",
              "    <tr>\n",
              "      <th>2</th>\n",
              "      <td>28</td>\n",
              "      <td>male</td>\n",
              "      <td>33.000</td>\n",
              "      <td>3</td>\n",
              "      <td>no</td>\n",
              "      <td>southeast</td>\n",
              "      <td>4449.46200</td>\n",
              "    </tr>\n",
              "    <tr>\n",
              "      <th>3</th>\n",
              "      <td>33</td>\n",
              "      <td>male</td>\n",
              "      <td>22.705</td>\n",
              "      <td>0</td>\n",
              "      <td>no</td>\n",
              "      <td>northwest</td>\n",
              "      <td>21984.47061</td>\n",
              "    </tr>\n",
              "    <tr>\n",
              "      <th>4</th>\n",
              "      <td>32</td>\n",
              "      <td>male</td>\n",
              "      <td>28.880</td>\n",
              "      <td>0</td>\n",
              "      <td>no</td>\n",
              "      <td>northwest</td>\n",
              "      <td>3866.85520</td>\n",
              "    </tr>\n",
              "  </tbody>\n",
              "</table>\n",
              "</div>"
            ],
            "text/plain": [
              "   age     sex     bmi  children smoker     region      charges\n",
              "0   19  female  27.900         0    yes  southwest  16884.92400\n",
              "1   18    male  33.770         1     no  southeast   1725.55230\n",
              "2   28    male  33.000         3     no  southeast   4449.46200\n",
              "3   33    male  22.705         0     no  northwest  21984.47061\n",
              "4   32    male  28.880         0     no  northwest   3866.85520"
            ]
          },
          "execution_count": 124,
          "metadata": {},
          "output_type": "execute_result"
        }
      ],
      "source": [
        "df_train.head()"
      ]
    },
    {
      "cell_type": "code",
      "execution_count": 125,
      "metadata": {
        "colab": {
          "base_uri": "https://localhost:8080/",
          "height": 206
        },
        "id": "CKxM6OJSnm6D",
        "outputId": "5657cc01-c8e7-42b9-d6bb-0626583b324c"
      },
      "outputs": [
        {
          "data": {
            "text/html": [
              "<div>\n",
              "<style scoped>\n",
              "    .dataframe tbody tr th:only-of-type {\n",
              "        vertical-align: middle;\n",
              "    }\n",
              "\n",
              "    .dataframe tbody tr th {\n",
              "        vertical-align: top;\n",
              "    }\n",
              "\n",
              "    .dataframe thead th {\n",
              "        text-align: right;\n",
              "    }\n",
              "</style>\n",
              "<table border=\"1\" class=\"dataframe\">\n",
              "  <thead>\n",
              "    <tr style=\"text-align: right;\">\n",
              "      <th></th>\n",
              "      <th>age</th>\n",
              "      <th>sex</th>\n",
              "      <th>bmi</th>\n",
              "      <th>children</th>\n",
              "      <th>smoker</th>\n",
              "      <th>region</th>\n",
              "      <th>charges</th>\n",
              "    </tr>\n",
              "  </thead>\n",
              "  <tbody>\n",
              "    <tr>\n",
              "      <th>0</th>\n",
              "      <td>33</td>\n",
              "      <td>male</td>\n",
              "      <td>30.25</td>\n",
              "      <td>0</td>\n",
              "      <td>no</td>\n",
              "      <td>southeast</td>\n",
              "      <td>NaN</td>\n",
              "    </tr>\n",
              "    <tr>\n",
              "      <th>1</th>\n",
              "      <td>19</td>\n",
              "      <td>female</td>\n",
              "      <td>32.49</td>\n",
              "      <td>0</td>\n",
              "      <td>yes</td>\n",
              "      <td>northwest</td>\n",
              "      <td>NaN</td>\n",
              "    </tr>\n",
              "    <tr>\n",
              "      <th>2</th>\n",
              "      <td>50</td>\n",
              "      <td>male</td>\n",
              "      <td>37.07</td>\n",
              "      <td>1</td>\n",
              "      <td>no</td>\n",
              "      <td>southeast</td>\n",
              "      <td>NaN</td>\n",
              "    </tr>\n",
              "    <tr>\n",
              "      <th>3</th>\n",
              "      <td>41</td>\n",
              "      <td>female</td>\n",
              "      <td>32.60</td>\n",
              "      <td>3</td>\n",
              "      <td>no</td>\n",
              "      <td>southwest</td>\n",
              "      <td>NaN</td>\n",
              "    </tr>\n",
              "    <tr>\n",
              "      <th>4</th>\n",
              "      <td>52</td>\n",
              "      <td>female</td>\n",
              "      <td>24.86</td>\n",
              "      <td>0</td>\n",
              "      <td>no</td>\n",
              "      <td>southeast</td>\n",
              "      <td>NaN</td>\n",
              "    </tr>\n",
              "  </tbody>\n",
              "</table>\n",
              "</div>"
            ],
            "text/plain": [
              "   age     sex    bmi  children smoker     region  charges\n",
              "0   33    male  30.25         0     no  southeast      NaN\n",
              "1   19  female  32.49         0    yes  northwest      NaN\n",
              "2   50    male  37.07         1     no  southeast      NaN\n",
              "3   41  female  32.60         3     no  southwest      NaN\n",
              "4   52  female  24.86         0     no  southeast      NaN"
            ]
          },
          "execution_count": 125,
          "metadata": {},
          "output_type": "execute_result"
        }
      ],
      "source": [
        "df_test.head()"
      ]
    },
    {
      "cell_type": "code",
      "execution_count": 126,
      "metadata": {
        "colab": {
          "base_uri": "https://localhost:8080/"
        },
        "id": "C2VQYttZohkx",
        "outputId": "8756d55b-c1c2-418c-ae1a-00e73e7466d4"
      },
      "outputs": [
        {
          "name": "stdout",
          "output_type": "stream",
          "text": [
            "<class 'pandas.core.frame.DataFrame'>\n",
            "RangeIndex: 938 entries, 0 to 937\n",
            "Data columns (total 7 columns):\n",
            " #   Column    Non-Null Count  Dtype  \n",
            "---  ------    --------------  -----  \n",
            " 0   age       938 non-null    int64  \n",
            " 1   sex       938 non-null    object \n",
            " 2   bmi       938 non-null    float64\n",
            " 3   children  938 non-null    int64  \n",
            " 4   smoker    938 non-null    object \n",
            " 5   region    938 non-null    object \n",
            " 6   charges   938 non-null    float64\n",
            "dtypes: float64(2), int64(2), object(3)\n",
            "memory usage: 51.4+ KB\n"
          ]
        }
      ],
      "source": [
        "df_train.info()"
      ]
    },
    {
      "cell_type": "code",
      "execution_count": 127,
      "metadata": {
        "colab": {
          "base_uri": "https://localhost:8080/",
          "height": 206
        },
        "id": "9wO-wPLypbzB",
        "outputId": "ac3204c8-2772-4b87-d2f1-b9bb444784ea"
      },
      "outputs": [
        {
          "name": "stdout",
          "output_type": "stream",
          "text": [
            "               age       sex       bmi  children    smoker    region   charges\n",
            "age       1.000000 -0.053253  0.105642  0.033802 -0.004509 -0.006884  0.324213\n",
            "sex      -0.053253  1.000000  0.015213  0.023992  0.068751 -0.002937  0.025908\n",
            "bmi       0.105642  0.015213  1.000000  0.025009 -0.005701  0.141745  0.189973\n",
            "children  0.033802  0.023992  0.025009  1.000000 -0.012050  0.000552  0.048509\n",
            "smoker   -0.004509  0.068751 -0.005701 -0.012050  1.000000 -0.012810  0.789616\n",
            "region   -0.006884 -0.002937  0.141745  0.000552 -0.012810  1.000000 -0.026971\n",
            "charges   0.324213  0.025908  0.189973  0.048509  0.789616 -0.026971  1.000000\n"
          ]
        },
        {
          "data": {
            "text/html": [
              "<div>\n",
              "<style scoped>\n",
              "    .dataframe tbody tr th:only-of-type {\n",
              "        vertical-align: middle;\n",
              "    }\n",
              "\n",
              "    .dataframe tbody tr th {\n",
              "        vertical-align: top;\n",
              "    }\n",
              "\n",
              "    .dataframe thead th {\n",
              "        text-align: right;\n",
              "    }\n",
              "</style>\n",
              "<table border=\"1\" class=\"dataframe\">\n",
              "  <thead>\n",
              "    <tr style=\"text-align: right;\">\n",
              "      <th></th>\n",
              "      <th>age</th>\n",
              "      <th>sex</th>\n",
              "      <th>bmi</th>\n",
              "      <th>children</th>\n",
              "      <th>smoker</th>\n",
              "      <th>region</th>\n",
              "      <th>charges</th>\n",
              "    </tr>\n",
              "  </thead>\n",
              "  <tbody>\n",
              "    <tr>\n",
              "      <th>0</th>\n",
              "      <td>19</td>\n",
              "      <td>0</td>\n",
              "      <td>27.900</td>\n",
              "      <td>0</td>\n",
              "      <td>1</td>\n",
              "      <td>3</td>\n",
              "      <td>16884.92400</td>\n",
              "    </tr>\n",
              "    <tr>\n",
              "      <th>1</th>\n",
              "      <td>18</td>\n",
              "      <td>1</td>\n",
              "      <td>33.770</td>\n",
              "      <td>1</td>\n",
              "      <td>0</td>\n",
              "      <td>2</td>\n",
              "      <td>1725.55230</td>\n",
              "    </tr>\n",
              "    <tr>\n",
              "      <th>2</th>\n",
              "      <td>28</td>\n",
              "      <td>1</td>\n",
              "      <td>33.000</td>\n",
              "      <td>3</td>\n",
              "      <td>0</td>\n",
              "      <td>2</td>\n",
              "      <td>4449.46200</td>\n",
              "    </tr>\n",
              "    <tr>\n",
              "      <th>3</th>\n",
              "      <td>33</td>\n",
              "      <td>1</td>\n",
              "      <td>22.705</td>\n",
              "      <td>0</td>\n",
              "      <td>0</td>\n",
              "      <td>1</td>\n",
              "      <td>21984.47061</td>\n",
              "    </tr>\n",
              "    <tr>\n",
              "      <th>4</th>\n",
              "      <td>32</td>\n",
              "      <td>1</td>\n",
              "      <td>28.880</td>\n",
              "      <td>0</td>\n",
              "      <td>0</td>\n",
              "      <td>1</td>\n",
              "      <td>3866.85520</td>\n",
              "    </tr>\n",
              "  </tbody>\n",
              "</table>\n",
              "</div>"
            ],
            "text/plain": [
              "   age  sex     bmi  children  smoker  region      charges\n",
              "0   19    0  27.900         0       1       3  16884.92400\n",
              "1   18    1  33.770         1       0       2   1725.55230\n",
              "2   28    1  33.000         3       0       2   4449.46200\n",
              "3   33    1  22.705         0       0       1  21984.47061\n",
              "4   32    1  28.880         0       0       1   3866.85520"
            ]
          },
          "execution_count": 127,
          "metadata": {},
          "output_type": "execute_result"
        }
      ],
      "source": [
        "# TODO\n",
        "# You may do the labelEncoder here\n",
        "\n",
        "#### For multiple features, please use the following settings.####\n",
        "# sex.female -> 0\n",
        "# sex.male -> 1\n",
        "\n",
        "# smoker.no -> 0\n",
        "# smoker.yes -> 1\n",
        "\n",
        "# region.northeast -> 0\n",
        "# region.northwest -> 1\n",
        "# region.southeast -> 2\n",
        "# region.southwest -> 3\n",
        "##################################################################\n",
        "df_train[\"sex\"].replace({\"female\": 0,\"male\": 1} ,inplace = True) \n",
        "df_train[\"smoker\"].replace({'no':0,'yes':1},inplace=True)\n",
        "df_train[\"region\"].replace({\"northeast\":0,\"northwest\": 1,\"southeast\" :2,\"southwest\" :3 },inplace=True)\n",
        "\n",
        "\n",
        "df_val[\"sex\"].replace({\"female\": 0,\"male\": 1} ,inplace = True) \n",
        "df_val[\"smoker\"].replace({'no':0,'yes':1},inplace=True)\n",
        "df_val[\"region\"].replace({\"northeast\":0,\"northwest\": 1,\"southeast\" :2,\"southwest\" :3 },inplace=True)\n",
        "\n",
        "\n",
        "df_test[\"sex\"].replace({\"female\": 0,\"male\": 1} ,inplace = True) \n",
        "df_test[\"smoker\"].replace({'no':0,'yes':1},inplace=True)\n",
        "df_test[\"region\"].replace({\"northeast\":0,\"northwest\": 1,\"southeast\" :2,\"southwest\" :3 },inplace=True)\n",
        "\n",
        "print(df_train.corr())\n",
        "\n",
        "df_train.head()\n",
        "\n",
        "# You may try different label encoding for training your own model\n"
      ]
    },
    {
      "cell_type": "markdown",
      "metadata": {
        "id": "OJj42I-0nm6F"
      },
      "source": [
        "# Single feature (using bmi)"
      ]
    },
    {
      "cell_type": "code",
      "execution_count": 128,
      "metadata": {
        "id": "yedo6qY3nm6F"
      },
      "outputs": [],
      "source": [
        "# Do not modify here\n",
        "\n",
        "x_train = df_train.drop(['charges'], axis=1)\n",
        "y_train = df_train['charges']\n",
        "x_train = x_train[['bmi']]\n",
        "\n",
        "x_val = df_val.drop(['charges'], axis=1)\n",
        "y_val = df_val['charges']\n",
        "x_val = x_val[['bmi']]\n",
        "\n",
        "x_test = df_test.drop(['charges'], axis=1)\n",
        "x_test = x_test[['bmi']]\n",
        "\n"
      ]
    },
    {
      "cell_type": "code",
      "execution_count": 129,
      "metadata": {
        "id": "ObKo4RachwJ_"
      },
      "outputs": [],
      "source": [
        "# TODO\n",
        "\n",
        "x_train=x_train.to_numpy()\n",
        "y_train=y_train.to_numpy()\n",
        "\n",
        "x_val=x_val.to_numpy()\n",
        "y_val=y_val.to_numpy()\n",
        "\n",
        "x_test=x_test.to_numpy()\n",
        "\n",
        "\n",
        "\n",
        "\n",
        "# You may convert data to NumPy here "
      ]
    },
    {
      "cell_type": "code",
      "execution_count": 130,
      "metadata": {
        "colab": {
          "base_uri": "https://localhost:8080/"
        },
        "id": "0ir1zYhBnm6H",
        "outputId": "f0d700f1-762e-4f1a-ca6a-782855ae7b2a"
      },
      "outputs": [
        {
          "name": "stdout",
          "output_type": "stream",
          "text": [
            "Don't cheat.\n"
          ]
        }
      ],
      "source": [
        "batch_size = x_train.shape[0]\n",
        "\n",
        "# TODO\n",
        "# Tune the parameters\n",
        "# Refer to slide page 9\n",
        "lr = 0.0019\n",
        "epochs = 120000\n",
        "\n",
        "linear_reg = LinearRegression()\n",
        "linear_reg.fit(x_train, y_train, lr=lr, epochs=epochs, batch_size=batch_size)"
      ]
    },
    {
      "cell_type": "code",
      "execution_count": 131,
      "metadata": {
        "colab": {
          "base_uri": "https://localhost:8080/"
        },
        "id": "513GqkCdnm6H",
        "outputId": "11b045a3-954f-401d-afb5-5fcfe50915cf"
      },
      "outputs": [
        {
          "name": "stdout",
          "output_type": "stream",
          "text": [
            "Intercepts:  [1382.20075136]\n",
            "Weights:  [[380.14513511]]\n"
          ]
        }
      ],
      "source": [
        "print(\"Intercepts: \", linear_reg.weights[-1])\n",
        "print(\"Weights: \", linear_reg.weights[:-1])"
      ]
    },
    {
      "cell_type": "code",
      "execution_count": 132,
      "metadata": {
        "colab": {
          "base_uri": "https://localhost:8080/"
        },
        "id": "gMtpEVnlnm6I",
        "outputId": "b2a95572-4da4-4236-c981-af3554b7103f"
      },
      "outputs": [
        {
          "name": "stdout",
          "output_type": "stream",
          "text": [
            "training loss:  139562065.48755702\n"
          ]
        }
      ],
      "source": [
        "print('training loss: ', linear_reg.evaluate(x_train, y_train))"
      ]
    },
    {
      "cell_type": "code",
      "execution_count": 133,
      "metadata": {
        "colab": {
          "base_uri": "https://localhost:8080/"
        },
        "id": "xQ42eFmxoujI",
        "outputId": "608a55ac-87e9-46d7-f7b1-dc0c3d0762c2"
      },
      "outputs": [
        {
          "name": "stdout",
          "output_type": "stream",
          "text": [
            "validation loss:  136920237.8839635\n"
          ]
        }
      ],
      "source": [
        "print('validation loss: ', linear_reg.evaluate(x_val, y_val))"
      ]
    },
    {
      "cell_type": "code",
      "execution_count": 134,
      "metadata": {
        "id": "2aNyL15ynm6I"
      },
      "outputs": [],
      "source": [
        "x_test= np.concatenate((x_test, np.ones((x_test.shape[0], 1))), axis=1)\n",
        "test_pred = linear_reg.predict(x_test)\n"
      ]
    },
    {
      "cell_type": "code",
      "execution_count": 135,
      "metadata": {
        "colab": {
          "base_uri": "https://localhost:8080/",
          "height": 290
        },
        "id": "wM2x8Tvmnm6J",
        "outputId": "a0d22d7e-534c-4550-ae98-e676a3e1769c"
      },
      "outputs": [
        {
          "data": {
            "image/png": "[encoded data removed]",
            "text/plain": [
              "<Figure size 432x288 with 1 Axes>"
            ]
          },
          "metadata": {
            "needs_background": "light"
          },
          "output_type": "display_data"
        }
      ],
      "source": [
        "linear_reg.plot_curve()"
      ]
    },
    {
      "cell_type": "code",
      "execution_count": 136,
      "metadata": {
        "colab": {
          "base_uri": "https://localhost:8080/",
          "height": 351
        },
        "id": "SIusBE_dnm6J",
        "outputId": "8f4aa025-ad5a-4eba-ed63-ce6b451a5d40"
      },
      "outputs": [
        {
          "name": "stderr",
          "output_type": "stream",
          "text": [
            "/Users/bohanlin/opt/anaconda3/lib/python3.9/site-packages/numpy/core/shape_base.py:65: VisibleDeprecationWarning: Creating an ndarray from ragged nested sequences (which is a list-or-tuple of lists-or-tuples-or ndarrays with different lengths or shapes) is deprecated. If you meant to do this, you must specify 'dtype=object' when creating the ndarray.\n",
            "  ary = asanyarray(ary)\n"
          ]
        },
        {
          "data": {
            "image/png": "[encoded data removed]",
            "text/plain": [
              "<Figure size 432x288 with 1 Axes>"
            ]
          },
          "metadata": {
            "needs_background": "light"
          },
          "output_type": "display_data"
        }
      ],
      "source": [
        "# Use matplotlib to plot the predicted line with the training and validation samples\n",
        "\n",
        "# TODO\n",
        "plt.scatter(x_train,y_train,s=5,c = \"blue\",label=\"Training samples\")\n",
        "plt.scatter(x_val,y_val,s=5,c=\"orange\",label=\"Validation samples\")\n",
        "plt.xlabel(\"BMI\")\n",
        "plt.ylabel(\"Charges\")\n",
        "plt.title(\"Charges vs BMI\")\n",
        "function=np.poly1d([0,linear_reg.weights[0],linear_reg.weights[1]])\n",
        "x=[13,53]\n",
        "y=[function(x[0]),function(x[1])]\n",
        "plt.plot(x,y,color=\"red\",label=\"Linear model\")\n",
        "plt.legend(loc=\"upper left\",shadow=True)\n",
        "plt.show()"
      ]
    },
    {
      "cell_type": "markdown",
      "metadata": {
        "id": "el3_fUSVnm6K"
      },
      "source": [
        "# Multiple features"
      ]
    },
    {
      "cell_type": "code",
      "execution_count": 137,
      "metadata": {
        "id": "hzijeACjnm6L"
      },
      "outputs": [
        {
          "data": {
            "text/html": [
              "<div>\n",
              "<style scoped>\n",
              "    .dataframe tbody tr th:only-of-type {\n",
              "        vertical-align: middle;\n",
              "    }\n",
              "\n",
              "    .dataframe tbody tr th {\n",
              "        vertical-align: top;\n",
              "    }\n",
              "\n",
              "    .dataframe thead th {\n",
              "        text-align: right;\n",
              "    }\n",
              "</style>\n",
              "<table border=\"1\" class=\"dataframe\">\n",
              "  <thead>\n",
              "    <tr style=\"text-align: right;\">\n",
              "      <th></th>\n",
              "      <th>age</th>\n",
              "      <th>sex</th>\n",
              "      <th>bmi</th>\n",
              "      <th>children</th>\n",
              "      <th>smoker</th>\n",
              "      <th>region</th>\n",
              "    </tr>\n",
              "  </thead>\n",
              "  <tbody>\n",
              "    <tr>\n",
              "      <th>0</th>\n",
              "      <td>33</td>\n",
              "      <td>1</td>\n",
              "      <td>30.25</td>\n",
              "      <td>0</td>\n",
              "      <td>0</td>\n",
              "      <td>2</td>\n",
              "    </tr>\n",
              "    <tr>\n",
              "      <th>1</th>\n",
              "      <td>19</td>\n",
              "      <td>0</td>\n",
              "      <td>32.49</td>\n",
              "      <td>0</td>\n",
              "      <td>1</td>\n",
              "      <td>1</td>\n",
              "    </tr>\n",
              "    <tr>\n",
              "      <th>2</th>\n",
              "      <td>50</td>\n",
              "      <td>1</td>\n",
              "      <td>37.07</td>\n",
              "      <td>1</td>\n",
              "      <td>0</td>\n",
              "      <td>2</td>\n",
              "    </tr>\n",
              "    <tr>\n",
              "      <th>3</th>\n",
              "      <td>41</td>\n",
              "      <td>0</td>\n",
              "      <td>32.60</td>\n",
              "      <td>3</td>\n",
              "      <td>0</td>\n",
              "      <td>3</td>\n",
              "    </tr>\n",
              "    <tr>\n",
              "      <th>4</th>\n",
              "      <td>52</td>\n",
              "      <td>0</td>\n",
              "      <td>24.86</td>\n",
              "      <td>0</td>\n",
              "      <td>0</td>\n",
              "      <td>2</td>\n",
              "    </tr>\n",
              "  </tbody>\n",
              "</table>\n",
              "</div>"
            ],
            "text/plain": [
              "   age  sex    bmi  children  smoker  region\n",
              "0   33    1  30.25         0       0       2\n",
              "1   19    0  32.49         0       1       1\n",
              "2   50    1  37.07         1       0       2\n",
              "3   41    0  32.60         3       0       3\n",
              "4   52    0  24.86         0       0       2"
            ]
          },
          "execution_count": 137,
          "metadata": {},
          "output_type": "execute_result"
        }
      ],
      "source": [
        "# Do not modify here\n",
        "\n",
        "x_train = df_train.drop(['charges'], axis=1)\n",
        "y_train = df_train['charges']\n",
        "\n",
        "x_val = df_val.drop(['charges'], axis=1)\n",
        "y_val = df_val['charges']\n",
        "\n",
        "x_test = df_test.drop(['charges'], axis=1)\n",
        "x_test.head()"
      ]
    },
    {
      "cell_type": "code",
      "execution_count": 138,
      "metadata": {
        "id": "vz4Qn8Umh9Gm"
      },
      "outputs": [],
      "source": [
        "# TODO\n",
        "x_train=x_train.to_numpy()\n",
        "y_train=y_train.to_numpy()\n",
        "\n",
        "x_val=x_val.to_numpy()\n",
        "y_val=y_val.to_numpy()\n",
        "\n",
        "x_test=x_test.to_numpy()\n",
        "\n",
        "# You may convert data to NumPy here "
      ]
    },
    {
      "cell_type": "code",
      "execution_count": 139,
      "metadata": {
        "colab": {
          "base_uri": "https://localhost:8080/"
        },
        "id": "Ek8YAFolnm6M",
        "outputId": "12c3725d-467e-46a0-f345-75993a44a862"
      },
      "outputs": [
        {
          "name": "stdout",
          "output_type": "stream",
          "text": [
            "Don't cheat.\n"
          ]
        }
      ],
      "source": [
        "batch_size = x_train.shape[0]\n",
        "\n",
        "# TODO\n",
        "# Tune the parameters\n",
        "# Refer to slide page 10\n",
        "lr = 0.0006\n",
        "epochs = 1000000\n",
        "\n",
        "linear_reg = LinearRegression()\n",
        "linear_reg.fit(x_train, y_train, lr=lr, epochs=epochs, batch_size=batch_size)"
      ]
    },
    {
      "cell_type": "code",
      "execution_count": 141,
      "metadata": {
        "colab": {
          "base_uri": "https://localhost:8080/"
        },
        "id": "77bKB1JKnm6M",
        "outputId": "dad299f7-2b1b-460b-de7e-f951f939bafe"
      },
      "outputs": [
        {
          "name": "stdout",
          "output_type": "stream",
          "text": [
            "Intercepts:  [-11857.05691458]\n",
            "Weights:  [[  259.85086214]\n",
            " [ -383.54527256]\n",
            " [  333.33250502]\n",
            " [  442.55747113]\n",
            " [24032.220977  ]\n",
            " [ -416.01439469]]\n"
          ]
        }
      ],
      "source": [
        "print(\"Intercepts: \", linear_reg.weights[-1])\n",
        "print(\"Weights: \", linear_reg.weights[:-1])"
      ]
    },
    {
      "cell_type": "code",
      "execution_count": 142,
      "metadata": {
        "colab": {
          "base_uri": "https://localhost:8080/"
        },
        "id": "v3bZe5XVnm6N",
        "outputId": "25737c0a-6e18-4e3a-d3d2-f0e7243bea52"
      },
      "outputs": [
        {
          "name": "stdout",
          "output_type": "stream",
          "text": [
            "training loss:  34697170.253519185\n"
          ]
        }
      ],
      "source": [
        "print('training loss: ', linear_reg.evaluate(x_train, y_train))"
      ]
    },
    {
      "cell_type": "code",
      "execution_count": 143,
      "metadata": {
        "colab": {
          "base_uri": "https://localhost:8080/"
        },
        "id": "MgnD2yXVo-67",
        "outputId": "b776a57c-f44f-45a0-c64b-f571872a857b"
      },
      "outputs": [
        {
          "name": "stdout",
          "output_type": "stream",
          "text": [
            "validation loss:  41958565.724924095\n"
          ]
        }
      ],
      "source": [
        "print('validation loss: ', linear_reg.evaluate(x_val, y_val))"
      ]
    },
    {
      "cell_type": "code",
      "execution_count": 144,
      "metadata": {
        "id": "L1dVgl2unm6N"
      },
      "outputs": [],
      "source": [
        "x_test= np.concatenate((x_test, np.ones((x_test.shape[0], 1))), axis=1)\n",
        "test_pred = linear_reg.predict(x_test)"
      ]
    },
    {
      "cell_type": "code",
      "execution_count": 145,
      "metadata": {
        "colab": {
          "base_uri": "https://localhost:8080/",
          "height": 173
        },
        "id": "Js0IK_Blnm6O",
        "outputId": "81469e80-1d80-4846-9f3d-0a1b16c3dd1e"
      },
      "outputs": [
        {
          "data": {
            "image/png": "[encoded data removed]",
            "text/plain": [
              "<Figure size 432x288 with 1 Axes>"
            ]
          },
          "metadata": {
            "needs_background": "light"
          },
          "output_type": "display_data"
        }
      ],
      "source": [
        "linear_reg.plot_curve()"
      ]
    },
    {
      "cell_type": "markdown",
      "metadata": {
        "id": "mcyR-WJzxRsw"
      },
      "source": [
        "# Train your own model and predict for testing data."
      ]
    },
    {
      "cell_type": "code",
      "execution_count": 146,
      "metadata": {},
      "outputs": [
        {
          "data": {
            "text/html": [
              "<div>\n",
              "<style scoped>\n",
              "    .dataframe tbody tr th:only-of-type {\n",
              "        vertical-align: middle;\n",
              "    }\n",
              "\n",
              "    .dataframe tbody tr th {\n",
              "        vertical-align: top;\n",
              "    }\n",
              "\n",
              "    .dataframe thead th {\n",
              "        text-align: right;\n",
              "    }\n",
              "</style>\n",
              "<table border=\"1\" class=\"dataframe\">\n",
              "  <thead>\n",
              "    <tr style=\"text-align: right;\">\n",
              "      <th></th>\n",
              "      <th>age</th>\n",
              "      <th>bmi</th>\n",
              "      <th>smoker</th>\n",
              "    </tr>\n",
              "  </thead>\n",
              "  <tbody>\n",
              "    <tr>\n",
              "      <th>0</th>\n",
              "      <td>19</td>\n",
              "      <td>27.900</td>\n",
              "      <td>1</td>\n",
              "    </tr>\n",
              "    <tr>\n",
              "      <th>1</th>\n",
              "      <td>18</td>\n",
              "      <td>33.770</td>\n",
              "      <td>0</td>\n",
              "    </tr>\n",
              "    <tr>\n",
              "      <th>2</th>\n",
              "      <td>28</td>\n",
              "      <td>33.000</td>\n",
              "      <td>0</td>\n",
              "    </tr>\n",
              "    <tr>\n",
              "      <th>3</th>\n",
              "      <td>33</td>\n",
              "      <td>22.705</td>\n",
              "      <td>0</td>\n",
              "    </tr>\n",
              "    <tr>\n",
              "      <th>4</th>\n",
              "      <td>32</td>\n",
              "      <td>28.880</td>\n",
              "      <td>0</td>\n",
              "    </tr>\n",
              "  </tbody>\n",
              "</table>\n",
              "</div>"
            ],
            "text/plain": [
              "   age     bmi  smoker\n",
              "0   19  27.900       1\n",
              "1   18  33.770       0\n",
              "2   28  33.000       0\n",
              "3   33  22.705       0\n",
              "4   32  28.880       0"
            ]
          },
          "execution_count": 146,
          "metadata": {},
          "output_type": "execute_result"
        }
      ],
      "source": [
        "# Do not modify here\n",
        "\n",
        "x_train = df_train.drop(['sex','children','region','charges'], axis=1)\n",
        "y_train = df_train['charges']\n",
        "\n",
        "x_val = df_val.drop(['sex','children','region','charges'], axis=1)\n",
        "y_val = df_val['charges']\n",
        "\n",
        "x_test = df_test.drop(['sex','children','region','charges'], axis=1)\n",
        "x_train.head()"
      ]
    },
    {
      "cell_type": "code",
      "execution_count": 147,
      "metadata": {},
      "outputs": [
        {
          "name": "stdout",
          "output_type": "stream",
          "text": [
            "               age       sex       bmi  children    smoker    region   charges\n",
            "age       1.000000 -0.053253  0.105642  0.033802 -0.004509 -0.006884  0.324213\n",
            "sex      -0.053253  1.000000  0.015213  0.023992  0.068751 -0.002937  0.025908\n",
            "bmi       0.105642  0.015213  1.000000  0.025009 -0.005701  0.141745  0.189973\n",
            "children  0.033802  0.023992  0.025009  1.000000 -0.012050  0.000552  0.048509\n",
            "smoker   -0.004509  0.068751 -0.005701 -0.012050  1.000000 -0.012810  0.789616\n",
            "region   -0.006884 -0.002937  0.141745  0.000552 -0.012810  1.000000 -0.026971\n",
            "charges   0.324213  0.025908  0.189973  0.048509  0.789616 -0.026971  1.000000\n"
          ]
        }
      ],
      "source": [
        "corr_table=df_train.corr()\n",
        "print(corr_table)\n"
      ]
    },
    {
      "cell_type": "code",
      "execution_count": 148,
      "metadata": {},
      "outputs": [
        {
          "data": {
            "text/html": [
              "<div>\n",
              "<style scoped>\n",
              "    .dataframe tbody tr th:only-of-type {\n",
              "        vertical-align: middle;\n",
              "    }\n",
              "\n",
              "    .dataframe tbody tr th {\n",
              "        vertical-align: top;\n",
              "    }\n",
              "\n",
              "    .dataframe thead th {\n",
              "        text-align: right;\n",
              "    }\n",
              "</style>\n",
              "<table border=\"1\" class=\"dataframe\">\n",
              "  <thead>\n",
              "    <tr style=\"text-align: right;\">\n",
              "      <th></th>\n",
              "      <th>age</th>\n",
              "      <th>bmi</th>\n",
              "      <th>smoker</th>\n",
              "      <th>age^2</th>\n",
              "      <th>age bmi</th>\n",
              "      <th>age smoker</th>\n",
              "      <th>bmi^2</th>\n",
              "      <th>bmi smoker</th>\n",
              "      <th>smoker^2</th>\n",
              "      <th>age^2 smoker</th>\n",
              "      <th>bmi^2 smoker</th>\n",
              "      <th>age*bmi*smoker</th>\n",
              "    </tr>\n",
              "  </thead>\n",
              "  <tbody>\n",
              "    <tr>\n",
              "      <th>0</th>\n",
              "      <td>18</td>\n",
              "      <td>26.180</td>\n",
              "      <td>0</td>\n",
              "      <td>324</td>\n",
              "      <td>471.24</td>\n",
              "      <td>0</td>\n",
              "      <td>685.392400</td>\n",
              "      <td>0.0</td>\n",
              "      <td>0</td>\n",
              "      <td>0</td>\n",
              "      <td>0.0</td>\n",
              "      <td>0.0</td>\n",
              "    </tr>\n",
              "    <tr>\n",
              "      <th>1</th>\n",
              "      <td>53</td>\n",
              "      <td>29.480</td>\n",
              "      <td>0</td>\n",
              "      <td>2809</td>\n",
              "      <td>1562.44</td>\n",
              "      <td>0</td>\n",
              "      <td>869.070400</td>\n",
              "      <td>0.0</td>\n",
              "      <td>0</td>\n",
              "      <td>0</td>\n",
              "      <td>0.0</td>\n",
              "      <td>0.0</td>\n",
              "    </tr>\n",
              "    <tr>\n",
              "      <th>2</th>\n",
              "      <td>18</td>\n",
              "      <td>23.210</td>\n",
              "      <td>0</td>\n",
              "      <td>324</td>\n",
              "      <td>417.78</td>\n",
              "      <td>0</td>\n",
              "      <td>538.704100</td>\n",
              "      <td>0.0</td>\n",
              "      <td>0</td>\n",
              "      <td>0</td>\n",
              "      <td>0.0</td>\n",
              "      <td>0.0</td>\n",
              "    </tr>\n",
              "    <tr>\n",
              "      <th>3</th>\n",
              "      <td>50</td>\n",
              "      <td>46.090</td>\n",
              "      <td>0</td>\n",
              "      <td>2500</td>\n",
              "      <td>2304.50</td>\n",
              "      <td>0</td>\n",
              "      <td>2124.288100</td>\n",
              "      <td>0.0</td>\n",
              "      <td>0</td>\n",
              "      <td>0</td>\n",
              "      <td>0.0</td>\n",
              "      <td>0.0</td>\n",
              "    </tr>\n",
              "    <tr>\n",
              "      <th>4</th>\n",
              "      <td>18</td>\n",
              "      <td>40.185</td>\n",
              "      <td>0</td>\n",
              "      <td>324</td>\n",
              "      <td>723.33</td>\n",
              "      <td>0</td>\n",
              "      <td>1614.834225</td>\n",
              "      <td>0.0</td>\n",
              "      <td>0</td>\n",
              "      <td>0</td>\n",
              "      <td>0.0</td>\n",
              "      <td>0.0</td>\n",
              "    </tr>\n",
              "  </tbody>\n",
              "</table>\n",
              "</div>"
            ],
            "text/plain": [
              "   age     bmi  smoker  age^2  age bmi  age smoker        bmi^2  bmi smoker  \\\n",
              "0   18  26.180       0    324   471.24           0   685.392400         0.0   \n",
              "1   53  29.480       0   2809  1562.44           0   869.070400         0.0   \n",
              "2   18  23.210       0    324   417.78           0   538.704100         0.0   \n",
              "3   50  46.090       0   2500  2304.50           0  2124.288100         0.0   \n",
              "4   18  40.185       0    324   723.33           0  1614.834225         0.0   \n",
              "\n",
              "   smoker^2  age^2 smoker  bmi^2 smoker  age*bmi*smoker  \n",
              "0         0             0           0.0             0.0  \n",
              "1         0             0           0.0             0.0  \n",
              "2         0             0           0.0             0.0  \n",
              "3         0             0           0.0             0.0  \n",
              "4         0             0           0.0             0.0  "
            ]
          },
          "execution_count": 148,
          "metadata": {},
          "output_type": "execute_result"
        }
      ],
      "source": [
        "def poly_expand(dataframe):\n",
        "    dataframe['age^2']=dataframe['age']**2\n",
        "    dataframe['age bmi']=dataframe['age']*dataframe['bmi']\n",
        "    dataframe['age smoker']=dataframe['age']*dataframe['smoker']\n",
        "    dataframe['bmi^2']=dataframe['bmi']**2\n",
        "    dataframe['bmi smoker']=dataframe['bmi']*dataframe['smoker']\n",
        "    dataframe['smoker^2']=dataframe['smoker']**2\n",
        "    dataframe['age^2 smoker']=dataframe['age']**2*(dataframe['smoker']) \n",
        "    dataframe['bmi^2 smoker']=dataframe['bmi']**2*(dataframe['smoker']) \n",
        "    dataframe['age*bmi*smoker']=dataframe['bmi']*dataframe['age']*dataframe['smoker']\n",
        "    return dataframe\n",
        "\n",
        "def normalization(data):\n",
        "    pass\n",
        "\n",
        "new_x_train=poly_expand(x_train)\n",
        "new_x_val=poly_expand(x_val)\n",
        "new_x_test=poly_expand(x_test)\n",
        "new_x_val.head()\n"
      ]
    },
    {
      "cell_type": "code",
      "execution_count": 149,
      "metadata": {},
      "outputs": [],
      "source": [
        "new_x_train=x_train.to_numpy()\n",
        "y_train=y_train.to_numpy()\n",
        "\n",
        "new_x_val=x_val.to_numpy()\n",
        "y_val=y_val.to_numpy()\n",
        "\n",
        "new_x_test=x_test.to_numpy()\n",
        "\n",
        "\n"
      ]
    },
    {
      "cell_type": "code",
      "execution_count": 150,
      "metadata": {},
      "outputs": [
        {
          "name": "stdout",
          "output_type": "stream",
          "text": [
            "Don't cheat.\n"
          ]
        }
      ],
      "source": [
        "batch_size = x_train.shape[0]\n",
        "\n",
        "# TODO\n",
        "# Tune the parameters\n",
        "# Refer to slide page 10\n",
        "#6個零\n",
        "lr = 0.00000027\n",
        "epochs = 10000000\n",
        "\n",
        "linear_reg = LinearRegression()\n",
        "linear_reg.fit(new_x_train, y_train, lr=lr, epochs=epochs, batch_size=batch_size)"
      ]
    },
    {
      "cell_type": "code",
      "execution_count": 151,
      "metadata": {},
      "outputs": [
        {
          "name": "stdout",
          "output_type": "stream",
          "text": [
            "training loss:  22147304.86882493\n",
            "validation loss:  28564094.388261575\n"
          ]
        },
        {
          "data": {
            "image/png": "[encoded data removed]",
            "text/plain": [
              "<Figure size 432x288 with 1 Axes>"
            ]
          },
          "metadata": {
            "needs_background": "light"
          },
          "output_type": "display_data"
        }
      ],
      "source": [
        "print('training loss: ', linear_reg.evaluate(new_x_train, y_train))\n",
        "print('validation loss: ', linear_reg.evaluate(new_x_val, y_val))\n",
        "linear_reg.plot_curve()"
      ]
    },
    {
      "cell_type": "code",
      "execution_count": 152,
      "metadata": {
        "colab": {
          "base_uri": "https://localhost:8080/"
        },
        "id": "x-Q1nUG6xZfM",
        "outputId": "a1f17a39-85dd-423c-f486-dfce718bd7fd"
      },
      "outputs": [
        {
          "name": "stdout",
          "output_type": "stream",
          "text": [
            "test_pred shape:  (200, 1)\n"
          ]
        }
      ],
      "source": [
        "new_x_test= np.concatenate((new_x_test, np.ones((new_x_test.shape[0], 1))), axis=1)\n",
        "test_pred = linear_reg.predict(new_x_test)\n",
        "print(\"test_pred shape: \", test_pred.shape)\n",
        "assert test_pred.shape == (200, 1)"
      ]
    },
    {
      "cell_type": "markdown",
      "metadata": {
        "id": "QCeukZcenm6O"
      },
      "source": [
        "# Output the csv file"
      ]
    },
    {
      "cell_type": "code",
      "execution_count": 153,
      "metadata": {
        "colab": {
          "base_uri": "https://localhost:8080/",
          "height": 357
        },
        "id": "SEN7NUgmnm6O",
        "outputId": "f27a8457-9dd9-4c07-eaa9-588b4427c757"
      },
      "outputs": [],
      "source": [
        "df_test = pd.DataFrame(pd.read_csv(\"./regression_test.csv\"))\n",
        "df_test[\"charges\"] = test_pred\n",
        "df_test.to_csv(\"311552034_prediction.csv\")"
      ]
    }
  ],
  "metadata": {
    "colab": {
      "provenance": []
    },
    "kernelspec": {
      "display_name": "Python 3.9.12 ('base')",
      "language": "python",
      "name": "python3"
    },
    "language_info": {
      "codemirror_mode": {
        "name": "ipython",
        "version": 3
      },
      "file_extension": ".py",
      "mimetype": "text/x-python",
      "name": "python",
      "nbconvert_exporter": "python",
      "pygments_lexer": "ipython3",
      "version": "3.9.12"
    },
    "vscode": {
      "interpreter": {
        "hash": "2dafc9818e2680afefcb30271426368bee6f11cde5b82a7c0b85f0135f5a01d1"
      }
    }
  },
  "nbformat": 4,
  "nbformat_minor": 0
}
