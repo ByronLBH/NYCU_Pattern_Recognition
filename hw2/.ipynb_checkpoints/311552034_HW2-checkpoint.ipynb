{
 "cells": [
  {
   "cell_type": "code",
   "execution_count": 237,
   "metadata": {
    "id": "BMH5lm_PrhdD"
   },
   "outputs": [],
   "source": [
    "# Only these three packages are allowed\n",
    "import numpy as np\n",
    "import pandas as pd\n",
    "import matplotlib.pyplot as plt\n",
    "import matplotlib.cm as cm"
   ]
  },
  {
   "cell_type": "code",
   "execution_count": 238,
   "metadata": {
    "id": "0FQ7Z945rnF5"
   },
   "outputs": [],
   "source": [
    "class FLD:\n",
    "    def __init__(self):\n",
    "        \"\"\"\n",
    "            You can add/change any variables/methods to meet your need.\n",
    "        \"\"\"\n",
    "        self.mean_vectors = None\n",
    "        self.sw = None\n",
    "        self.sb = None\n",
    "        self.w = None\n",
    "        self.slope = None\n",
    "\n",
    "    def fit(self, X, y):\n",
    "        pass\n",
    "\n",
    "    def predict_using_class_mean(self, X, y, X_test):\n",
    "        # return y_pred\n",
    "        pass\n",
    "\n",
    "    def predict_using_knn(self, X, y, X_test, k=1):\n",
    "        # return y_pred\n",
    "        pass\n",
    "\n",
    "    def show_confusion_matrix(self, y, y_pred):\n",
    "        pass\n",
    "\n",
    "    def plot_projection(self, X, y):\n",
    "        pass\n",
    "\n",
    "    def accuracy_score(self, y, y_pred):\n",
    "        pass"
   ]
  },
  {
   "cell_type": "code",
   "execution_count": 257,
   "metadata": {
    "id": "fNjwTeUD2UAV"
   },
   "outputs": [],
   "source": [
    "class MultiClassLogisticRegression:\n",
    "    \n",
    "    def __init__(self):\n",
    "        \"\"\"\n",
    "            You can add/change any variables/methods to meet your need.\n",
    "        \"\"\"\n",
    "        self.epoch = []\n",
    "        self.train_loss = []\n",
    "        self.weights = None\n",
    "    \n",
    "    def fit(self, X, y, batch_size=16, lr=0.001, epoch=100):\n",
    "        self.class_num=len(np.unique(y))\n",
    "        self.weights=np.zeros((X.shape[1]+1,self.class_num))\n",
    "        X_biased=np.concatenate((X,np.ones((X.shape[0],1))),axis=1)\n",
    "        y_one_hot=self.one_hot_encode(y)\n",
    "\n",
    "        for i in range(epoch) :\n",
    "            for j in range(0,len(X),batch_size):\n",
    "                X_batch=X_biased[j:j+batch_size]\n",
    "                y_batch=y_one_hot[j:j+batch_size]\n",
    "                \n",
    "               \n",
    "                #compute softmax , errors and get gardient\n",
    "                probs=self.softmax(X_batch.dot(self.weights))\n",
    "                errors=y_batch-probs\n",
    "                gradient=-np.dot(X_batch.T,errors)/len(X_batch)\n",
    "\n",
    "\n",
    "                #gradient descent\n",
    "                self.weights-=lr*gradient\n",
    "               \n",
    "            \n",
    "            #compute cross entropy loss at the end of each iteration\n",
    "            train_probs = self.softmax(np.dot(X_biased, self.weights))\n",
    "            train_loss = self.cross_entropy(y_one_hot, train_probs)\n",
    "            self.epoch.append(i+1)\n",
    "            self.train_loss.append(train_loss)\n",
    "\n",
    "\n",
    "    def predict(self, X):\n",
    "        # Predict using maximum likelihood\n",
    "        return np.argmax(self.softmax(X.dot(self.weights)), axis=1)\n",
    "        \n",
    "\n",
    "    def evaluate(self, X, y):\n",
    "        # return np.mean(self.predict_for_eval(X) == np.argmax(y, axis=1))\n",
    "        X_biased=np.concatenate((X,np.ones((X.shape[0],1))),axis=1)\n",
    "        y_pred=self.predict(X_biased)\n",
    "        acc = self.accuracy_score(y, y_pred)\n",
    "        return acc        \n",
    "\n",
    "    def softmax(self, z):\n",
    "        return np.exp(z) / np.sum(np.exp(z), axis=1).reshape(-1,1) \n",
    "\n",
    "    def cross_entropy(self, y, probs):\n",
    "        return -1 * np.mean(y * np.log(probs))\n",
    "    \n",
    "    def one_hot_encode(self, y):\n",
    "        return np.eye(len(np.unique(y)))[y]\n",
    "  \n",
    "\n",
    "    def accuracy_score(self, y, y_pred):\n",
    "        return np.mean(y == y_pred)\n",
    "    \n",
    "\n",
    "    def show_confusion_matrix(self, X, y):\n",
    "        class_names=['0','1','2']\n",
    "        X_biased=np.concatenate((X,np.ones((X.shape[0],1))),axis=1)\n",
    "        probs=self.softmax(X_biased.dot(self.weights))\n",
    "\n",
    "        zero_zero=0\n",
    "        zero_one=0\n",
    "        zero_two=0\n",
    "        one_zero=0\n",
    "        one_one=0\n",
    "        one_two=0\n",
    "        two_zero=0\n",
    "        two_one=0\n",
    "        two_two=0\n",
    "\n",
    "        y_pred=np.argmax(probs,axis=1)\n",
    "\n",
    "        for i in range(1000):\n",
    "            if y_pred[i]==0 :\n",
    "               if y[i]==0:\n",
    "                  zero_zero+=1\n",
    "               elif y[i]==1:\n",
    "                  zero_one+=1\n",
    "               elif y[i]==2:\n",
    "                  zero_two+=1\n",
    "\n",
    "            elif y_pred[i]==1 :\n",
    "               if y[i]==0:\n",
    "                  one_zero+=1\n",
    "               elif y[i]==1:\n",
    "                  one_one+=1\n",
    "               elif y[i]==2:\n",
    "                  one_two+=1\n",
    "\n",
    "            elif y_pred[i]==2:\n",
    "               if y[i]==0:\n",
    "                  two_zero+=1\n",
    "               elif y[i]==1:\n",
    "                  two_one+=1\n",
    "               elif y[i]==2:\n",
    "                  two_two+=1      \n",
    "\n",
    "            \n",
    "\n",
    "\n",
    "        # Sample confusion matrix\n",
    "        cm = np.array([[zero_zero,zero_one,zero_two],[one_zero,one_one,one_two],[two_zero,two_one,two_two]])\n",
    "        \n",
    "        # Create a figure and axis object\n",
    "        fig, ax = plt.subplots()\n",
    "\n",
    "        # Plot the confusion matrix using imshow\n",
    "        im = ax.imshow(cm, cmap='Blues')\n",
    "\n",
    "        # Add a colorbar to the plot\n",
    "        cbar = ax.figure.colorbar(im, ax=ax)\n",
    "\n",
    "        # Add axis labels and a title to the plot\n",
    "        ax.set_xlabel('Predicted label')\n",
    "        ax.set_ylabel('True label')\n",
    "        ax.set_title('Confusion Matrix')\n",
    "\n",
    "        # Add tick marks to the plot\n",
    "        tick_marks = np.arange(len(cm))\n",
    "        ax.set_xticks(tick_marks)\n",
    "        ax.set_yticks(tick_marks)\n",
    "\n",
    "        # Add labels to the tick marks\n",
    "        class_labels = ['0', '1','2']\n",
    "        ax.set_xticklabels(class_labels)\n",
    "        ax.set_yticklabels(class_labels)\n",
    "\n",
    "        # Add the actual numbers to the plot\n",
    "        thresh = cm.max() / 2.0\n",
    "        for i in range(cm.shape[0]):\n",
    "            for j in range(cm.shape[1]):\n",
    "                ax.text(j, i, format(cm[i, j], 'd'),\n",
    "                        ha=\"center\", va=\"center\",\n",
    "                        color=\"white\" if cm[i, j] > thresh else \"black\")\n",
    "\n",
    "        # Show the plot\n",
    "        plt.show()\n",
    "\n",
    "        \n",
    "\n",
    "\n",
    "    def plot_curve(self):\n",
    "        # self.epoch and self.train_loss may be helpful here. \n",
    "        plt.plot(self.epoch, self.train_loss)\n",
    "        plt.xlabel(\"Epoch\")\n",
    "        plt.ylabel(\"Training Loss\")\n",
    "        plt.show() "
   ]
  },
  {
   "cell_type": "markdown",
   "metadata": {
    "id": "tW-wMhSw8fT8"
   },
   "source": [
    "# Prepare data for Q1 ~ Q12"
   ]
  },
  {
   "cell_type": "code",
   "execution_count": 258,
   "metadata": {
    "id": "k43aGfaQ7TsP"
   },
   "outputs": [],
   "source": [
    "df_train = pd.DataFrame(pd.read_csv(\"./PR_HW2_dataset/PR_HW2_blob_train.csv\"))\n",
    "df_test  = pd.DataFrame(pd.read_csv(\"./PR_HW2_dataset/PR_HW2_blob_test.csv\"))"
   ]
  },
  {
   "cell_type": "code",
   "execution_count": 259,
   "metadata": {
    "id": "2RqHvQCu76Yn"
   },
   "outputs": [
    {
     "name": "stdout",
     "output_type": "stream",
     "text": [
      "X_train (1000, 2)\n",
      "y_train (1000,)\n",
      "X_test (1000, 2)\n",
      "y_test (1000,)\n"
     ]
    }
   ],
   "source": [
    "X_train = df_train[['Feature1', 'Feature2']].to_numpy()\n",
    "y_train = df_train[['Target']].to_numpy().ravel()\n",
    "\n",
    "X_test = df_test[['Feature1', 'Feature2']].to_numpy()\n",
    "y_test = df_test[['Target']].to_numpy().ravel()\n",
    "\n",
    "print(\"X_train\", X_train.shape)\n",
    "print(\"y_train\", y_train.shape)\n",
    "print(\"X_test\",  X_test.shape)\n",
    "print(\"y_test\",  y_test.shape)"
   ]
  },
  {
   "cell_type": "markdown",
   "metadata": {
    "id": "E_HKrHzE8_Sy"
   },
   "source": [
    "# MultiClass Logistic Regression"
   ]
  },
  {
   "cell_type": "code",
   "execution_count": 260,
   "metadata": {
    "id": "xN1uUlEC9FqA"
   },
   "outputs": [],
   "source": [
    "# For Q1\n",
    "lr = 0.001\n",
    "batch_size = 16\n",
    "epoch = 1000\n",
    "\n",
    "logistic_reg = MultiClassLogisticRegression()\n",
    "logistic_reg.fit(X_train, y_train, lr=lr, batch_size=batch_size, epoch=epoch)"
   ]
  },
  {
   "cell_type": "code",
   "execution_count": 261,
   "metadata": {
    "id": "R_Y8kIlQ9Jcz"
   },
   "outputs": [
    {
     "name": "stdout",
     "output_type": "stream",
     "text": [
      "Training acc:  0.897\n"
     ]
    }
   ],
   "source": [
    "# For Q2\n",
    "print('Training acc: ', logistic_reg.evaluate(X_train, y_train))"
   ]
  },
  {
   "cell_type": "code",
   "execution_count": 262,
   "metadata": {
    "id": "TzqioRVD9Jgn"
   },
   "outputs": [
    {
     "name": "stdout",
     "output_type": "stream",
     "text": [
      "Testing acc:  0.883\n"
     ]
    }
   ],
   "source": [
    "# For Q3\n",
    "print('Testing acc: ', logistic_reg.evaluate(X_test, y_test))"
   ]
  },
  {
   "cell_type": "code",
   "execution_count": 263,
   "metadata": {
    "id": "B_BSVWmM9JkX"
   },
   "outputs": [
    {
     "data": {
      "image/png": "[encoded data removed]",
      "text/plain": [
       "<Figure size 432x288 with 1 Axes>"
      ]
     },
     "metadata": {
      "needs_background": "light"
     },
     "output_type": "display_data"
    }
   ],
   "source": [
    "# For Q4\n",
    "logistic_reg.plot_curve()"
   ]
  },
  {
   "cell_type": "code",
   "execution_count": 264,
   "metadata": {
    "id": "r8tAlAPc9JoP"
   },
   "outputs": [
    {
     "data": {
      "image/png": "[encoded data removed]",
      "text/plain": [
       "<Figure size 432x288 with 2 Axes>"
      ]
     },
     "metadata": {
      "needs_background": "light"
     },
     "output_type": "display_data"
    }
   ],
   "source": [
    "# For Q5\n",
    "logistic_reg.show_confusion_matrix(X_test, y_test)"
   ]
  },
  {
   "cell_type": "markdown",
   "metadata": {
    "id": "njoLZK84-sv3"
   },
   "source": [
    "# Fisher's Linear Discriminant Analysis"
   ]
  },
  {
   "cell_type": "code",
   "execution_count": null,
   "metadata": {
    "id": "i-uhvrbe2mNe"
   },
   "outputs": [],
   "source": [
    "fld = FLD()\n",
    "\n",
    "fld.fit(X_train, y_train)"
   ]
  },
  {
   "cell_type": "code",
   "execution_count": null,
   "metadata": {
    "id": "t95-qsEl2nl_"
   },
   "outputs": [],
   "source": [
    "# For Q6\n",
    "print(\"Class mean vector: \", fld.mean_vectors)"
   ]
  },
  {
   "cell_type": "code",
   "execution_count": null,
   "metadata": {
    "id": "czRrdHxV2olM"
   },
   "outputs": [],
   "source": [
    "# For Q7\n",
    "print(\"Within-class scatter matrix SW: \", fld.sw)"
   ]
  },
  {
   "cell_type": "code",
   "execution_count": null,
   "metadata": {
    "id": "oETHjp4Y2oqg"
   },
   "outputs": [],
   "source": [
    "# For Q8\n",
    "print(\"Between-class scatter matrix SB: \", fld.sb)"
   ]
  },
  {
   "cell_type": "code",
   "execution_count": null,
   "metadata": {
    "id": "dRytOEMl2otd"
   },
   "outputs": [],
   "source": [
    "# For Q9\n",
    "print(\"W: \", fld.w)"
   ]
  },
  {
   "cell_type": "code",
   "execution_count": null,
   "metadata": {
    "id": "Q9XMtITV2owM"
   },
   "outputs": [],
   "source": [
    "# For Q10\n",
    "y_pred = fld.predict_using_class_mean(X_train, y_train, X_test)\n",
    "print(\"FLD using class mean, accuracy: \", fld.accuracy_score(y_test, y_pred))\n",
    "\n",
    "fld.show_confusion_matrix(y_test, y_pred)"
   ]
  },
  {
   "cell_type": "code",
   "execution_count": null,
   "metadata": {
    "id": "7mmAB2BZ2oy5"
   },
   "outputs": [],
   "source": [
    "# For Q11\n",
    "y_pred_k1 = fld.predict_using_knn(X_train, y_train, X_test, k=1)\n",
    "print(\"FLD using knn (k=1), accuracy: \", fld.accuracy_score(y_test, y_pred_k1))\n",
    "\n",
    "y_pred_k2 = fld.predict_using_knn(X_train, y_train, X_test, k=2)\n",
    "print(\"FLD using knn (k=2), accuracy: \", fld.accuracy_score(y_test, y_pred_k2))\n",
    "\n",
    "y_pred_k3 = fld.predict_using_knn(X_train, y_train, X_test, k=3)\n",
    "print(\"FLD using knn (k=3), accuracy: \", fld.accuracy_score(y_test, y_pred_k3))\n",
    "\n",
    "y_pred_k4 = fld.predict_using_knn(X_train, y_train, X_test, k=4)\n",
    "print(\"FLD using knn (k=4), accuracy: \", fld.accuracy_score(y_test, y_pred_k4))\n",
    "\n",
    "y_pred_k5 = fld.predict_using_knn(X_train, y_train, X_test, k=5)\n",
    "print(\"FLD using knn (k=5), accuracy: \", fld.accuracy_score(y_test, y_pred_k5))"
   ]
  },
  {
   "cell_type": "code",
   "execution_count": null,
   "metadata": {
    "id": "uAaGRQkg2o1e"
   },
   "outputs": [],
   "source": [
    "# For Q12, using only training data\n",
    "fld.plot_projection(X_train, y_train)"
   ]
  },
  {
   "cell_type": "markdown",
   "metadata": {
    "id": "PDeFV2_uAoL_"
   },
   "source": [
    "# Train your own model on provided dataset.\n",
    "You can only using 1) **Fisher's Linear Discriminant** or 2) **Logistic Regression** that you have implemented above."
   ]
  },
  {
   "cell_type": "code",
   "execution_count": null,
   "metadata": {
    "id": "0GkkThFyBTN3"
   },
   "outputs": [],
   "source": [
    "df_train = pd.DataFrame(pd.read_csv(\"./PR_HW2_dataset/PR_HW2_train.csv\"))\n",
    "df_val   = pd.DataFrame(pd.read_csv(\"./PR_HW2_dataset/PR_HW2_val.csv\"))\n",
    "df_test  = pd.DataFrame(pd.read_csv(\"./PR_HW2_dataset/PR_HW2_test.csv\"))"
   ]
  },
  {
   "cell_type": "code",
   "execution_count": null,
   "metadata": {
    "id": "6Si9iL-0BWQS"
   },
   "outputs": [
    {
     "data": {
      "text/html": [
       "<div>\n",
       "<style scoped>\n",
       "    .dataframe tbody tr th:only-of-type {\n",
       "        vertical-align: middle;\n",
       "    }\n",
       "\n",
       "    .dataframe tbody tr th {\n",
       "        vertical-align: top;\n",
       "    }\n",
       "\n",
       "    .dataframe thead th {\n",
       "        text-align: right;\n",
       "    }\n",
       "</style>\n",
       "<table border=\"1\" class=\"dataframe\">\n",
       "  <thead>\n",
       "    <tr style=\"text-align: right;\">\n",
       "      <th></th>\n",
       "      <th>Feature1</th>\n",
       "      <th>Feature2</th>\n",
       "      <th>Feature3</th>\n",
       "      <th>Feature4</th>\n",
       "      <th>Target</th>\n",
       "    </tr>\n",
       "  </thead>\n",
       "  <tbody>\n",
       "    <tr>\n",
       "      <th>0</th>\n",
       "      <td>0.00668</td>\n",
       "      <td>0.00192</td>\n",
       "      <td>0.682</td>\n",
       "      <td>0.996</td>\n",
       "      <td>2.0</td>\n",
       "    </tr>\n",
       "    <tr>\n",
       "      <th>1</th>\n",
       "      <td>0.00680</td>\n",
       "      <td>0.00106</td>\n",
       "      <td>0.503</td>\n",
       "      <td>0.996</td>\n",
       "      <td>1.0</td>\n",
       "    </tr>\n",
       "    <tr>\n",
       "      <th>2</th>\n",
       "      <td>0.00742</td>\n",
       "      <td>0.00106</td>\n",
       "      <td>0.482</td>\n",
       "      <td>0.991</td>\n",
       "      <td>1.0</td>\n",
       "    </tr>\n",
       "    <tr>\n",
       "      <th>3</th>\n",
       "      <td>0.00685</td>\n",
       "      <td>0.00178</td>\n",
       "      <td>0.650</td>\n",
       "      <td>0.998</td>\n",
       "      <td>2.0</td>\n",
       "    </tr>\n",
       "    <tr>\n",
       "      <th>4</th>\n",
       "      <td>0.00680</td>\n",
       "      <td>0.00163</td>\n",
       "      <td>0.623</td>\n",
       "      <td>0.996</td>\n",
       "      <td>2.0</td>\n",
       "    </tr>\n",
       "  </tbody>\n",
       "</table>\n",
       "</div>"
      ],
      "text/plain": [
       "   Feature1  Feature2  Feature3  Feature4  Target\n",
       "0   0.00668   0.00192     0.682     0.996     2.0\n",
       "1   0.00680   0.00106     0.503     0.996     1.0\n",
       "2   0.00742   0.00106     0.482     0.991     1.0\n",
       "3   0.00685   0.00178     0.650     0.998     2.0\n",
       "4   0.00680   0.00163     0.623     0.996     2.0"
      ]
     },
     "execution_count": 154,
     "metadata": {},
     "output_type": "execute_result"
    }
   ],
   "source": [
    "df_train.head()"
   ]
  },
  {
   "cell_type": "code",
   "execution_count": null,
   "metadata": {
    "id": "qw1B1bIkBdN4"
   },
   "outputs": [
    {
     "data": {
      "text/html": [
       "<div>\n",
       "<style scoped>\n",
       "    .dataframe tbody tr th:only-of-type {\n",
       "        vertical-align: middle;\n",
       "    }\n",
       "\n",
       "    .dataframe tbody tr th {\n",
       "        vertical-align: top;\n",
       "    }\n",
       "\n",
       "    .dataframe thead th {\n",
       "        text-align: right;\n",
       "    }\n",
       "</style>\n",
       "<table border=\"1\" class=\"dataframe\">\n",
       "  <thead>\n",
       "    <tr style=\"text-align: right;\">\n",
       "      <th></th>\n",
       "      <th>Feature1</th>\n",
       "      <th>Feature2</th>\n",
       "      <th>Feature3</th>\n",
       "      <th>Feature4</th>\n",
       "      <th>Target</th>\n",
       "    </tr>\n",
       "  </thead>\n",
       "  <tbody>\n",
       "    <tr>\n",
       "      <th>0</th>\n",
       "      <td>0.00699</td>\n",
       "      <td>0.000877</td>\n",
       "      <td>0.451</td>\n",
       "      <td>0.994</td>\n",
       "      <td>NaN</td>\n",
       "    </tr>\n",
       "    <tr>\n",
       "      <th>1</th>\n",
       "      <td>0.00736</td>\n",
       "      <td>0.001370</td>\n",
       "      <td>0.549</td>\n",
       "      <td>0.998</td>\n",
       "      <td>NaN</td>\n",
       "    </tr>\n",
       "    <tr>\n",
       "      <th>2</th>\n",
       "      <td>0.00687</td>\n",
       "      <td>0.001420</td>\n",
       "      <td>0.580</td>\n",
       "      <td>0.992</td>\n",
       "      <td>NaN</td>\n",
       "    </tr>\n",
       "    <tr>\n",
       "      <th>3</th>\n",
       "      <td>0.00752</td>\n",
       "      <td>0.002520</td>\n",
       "      <td>0.737</td>\n",
       "      <td>0.996</td>\n",
       "      <td>NaN</td>\n",
       "    </tr>\n",
       "    <tr>\n",
       "      <th>4</th>\n",
       "      <td>0.00685</td>\n",
       "      <td>0.000910</td>\n",
       "      <td>0.464</td>\n",
       "      <td>0.992</td>\n",
       "      <td>NaN</td>\n",
       "    </tr>\n",
       "  </tbody>\n",
       "</table>\n",
       "</div>"
      ],
      "text/plain": [
       "   Feature1  Feature2  Feature3  Feature4  Target\n",
       "0   0.00699  0.000877     0.451     0.994     NaN\n",
       "1   0.00736  0.001370     0.549     0.998     NaN\n",
       "2   0.00687  0.001420     0.580     0.992     NaN\n",
       "3   0.00752  0.002520     0.737     0.996     NaN\n",
       "4   0.00685  0.000910     0.464     0.992     NaN"
      ]
     },
     "execution_count": 155,
     "metadata": {},
     "output_type": "execute_result"
    }
   ],
   "source": [
    "df_test.head()"
   ]
  },
  {
   "cell_type": "code",
   "execution_count": null,
   "metadata": {
    "id": "tDeQjZsuDagp"
   },
   "outputs": [],
   "source": [
    "# Data processing\n",
    "\n",
    "# Refer to section \"Prepare data for Q1 ~ Q12\""
   ]
  },
  {
   "cell_type": "code",
   "execution_count": null,
   "metadata": {
    "id": "p9vEErR9Bf_a"
   },
   "outputs": [],
   "source": [
    "# Train your model here\n",
    "\n",
    "# your_model = ..."
   ]
  },
  {
   "cell_type": "code",
   "execution_count": null,
   "metadata": {
    "id": "68NrvUPsBsy8"
   },
   "outputs": [],
   "source": [
    "test_pred = your_model.predict(x_test)\n",
    "print(\"test_pred shape: \", test_pred.shape)"
   ]
  },
  {
   "cell_type": "markdown",
   "metadata": {
    "id": "LBTMFtdlB55p"
   },
   "source": [
    "# Output the csv file"
   ]
  },
  {
   "cell_type": "code",
   "execution_count": null,
   "metadata": {
    "id": "C2OL-EI2B3ja"
   },
   "outputs": [],
   "source": [
    "# For Q13\n",
    "df_test = pd.DataFrame(pd.read_csv(\"./PR_HW2_dataset/PR_HW2_test.csv\"))\n",
    "df_test[\"Target\"] = test_pred\n",
    "df_test.to_csv(\"sample_output.csv\")"
   ]
  }
 ],
 "metadata": {
  "colab": {
   "provenance": []
  },
  "kernelspec": {
   "display_name": "Python 3 (ipykernel)",
   "language": "python",
   "name": "python3"
  },
  "language_info": {
   "codemirror_mode": {
    "name": "ipython",
    "version": 3
   },
   "file_extension": ".py",
   "mimetype": "text/x-python",
   "name": "python",
   "nbconvert_exporter": "python",
   "pygments_lexer": "ipython3",
   "version": "3.9.12"
  },
  "vscode": {
   "interpreter": {
    "hash": "2dafc9818e2680afefcb30271426368bee6f11cde5b82a7c0b85f0135f5a01d1"
   }
  }
 },
 "nbformat": 4,
 "nbformat_minor": 1
}
