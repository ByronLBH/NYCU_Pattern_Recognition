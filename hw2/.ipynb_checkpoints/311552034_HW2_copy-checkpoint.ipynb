{
 "cells": [
  {
   "cell_type": "code",
   "execution_count": 1,
   "metadata": {
    "id": "BMH5lm_PrhdD"
   },
   "outputs": [],
   "source": [
    "# Only these three packages are allowed\n",
    "import numpy as np\n",
    "import pandas as pd\n",
    "import matplotlib.pyplot as plt\n",
    "import matplotlib\n",
    "import matplotlib.cm as cm"
   ]
  },
  {
   "cell_type": "code",
   "execution_count": 2,
   "metadata": {
    "id": "0FQ7Z945rnF5"
   },
   "outputs": [],
   "source": [
    "class FLD:\n",
    "    def __init__(self):\n",
    "        \"\"\"\n",
    "            You can add/change any variables/methods to meet your need.\n",
    "        \"\"\"\n",
    "        self.mean_vectors = None\n",
    "        self.sw = None\n",
    "        self.sw_test=None\n",
    "        self.sb = None\n",
    "        self.w = None\n",
    "        self.slope = None\n",
    "\n",
    "    def fit(self, X, y):\n",
    "        #compute mean vector in each classes\n",
    "        self.mean_vectors = np.array([np.mean(X[y == i], axis=0) for i in np.unique(y)])\n",
    "        \n",
    "        n_classes=len(np.unique(y))\n",
    "        data_dim=X.shape[1]\n",
    "        \n",
    "        sw_test = np.zeros((2, 2))\n",
    "        for i in range(len(y)):\n",
    "            y_val = y[i]\n",
    "            t_sw = (X[i] - self.mean_vectors[y_val]).reshape(data_dim, 1)\n",
    "            sw_test += np.matmul(t_sw, t_sw.T)\n",
    "        assert sw_test.shape == (2, 2)\n",
    "        # print(f\"Within-class scatter matrix SW:\\n{sw_test}\\n\")\n",
    "        self.sw=sw_test\n",
    "\n",
    "        \n",
    "        #compute btw class scatter matrix\n",
    "\n",
    "\n",
    "\n",
    "        overall_mean = np.mean(X, axis=0)\n",
    "        self.sb = sum([len(X[y == i]) * np.outer(self.mean_vectors[i] - overall_mean, self.mean_vectors[i] - overall_mean) for i in np.unique(y)])\n",
    "        \n",
    "        # class_len=np.zeros(3)\n",
    "        # class_len[0]=len(X[y==0])\n",
    "        # class_len[1]=len(X[y==1])\n",
    "        # class_len[2]=len(X[y==2])\n",
    "        \n",
    "        # sb=np.zeros([2,2])\n",
    "        # for i in range(3):\n",
    "        #     t_sb = (self.mean_vectors[i]-overall_mean).reshape(data_dim, 1)\n",
    "        #     sb += class_len[i]*np.matmul(t_sb, t_sb.T)\n",
    "        \n",
    "        # assert sb.shape == (2, 2)\n",
    "        # print(f\"Between-class scatter matrix SB:\\n{sb}\\n\")\n",
    "        \n",
    "        eigenvalues, eigenvectors = np.linalg.eig(np.linalg.inv(self.sw).dot(self.sb))\n",
    "        \n",
    "        eigenvectors = eigenvectors.T\n",
    "        idxs = np.argsort(abs(eigenvalues))[::-1]\n",
    "        eigenvalues = eigenvalues[idxs]\n",
    "        eigenvectors = eigenvectors[idxs]\n",
    "        # store largest eigenvectors\n",
    "        self.w = eigenvectors[0]\n",
    "\n",
    "        \n",
    "        # eig_pairs = [(np.abs(eig_vals[i]), eig_vecs[:,i]) for i in range(len(eig_vals))]\n",
    "        # eig_pairs = sorted(eig_pairs, key=lambda k: k[0], reverse=True)\n",
    "        # # Choose top (n_classes-1) eigen vectors\n",
    "        # self.w = np.hstack((eig_pairs[i][1].reshape(data_dim, 1)) for i in range(n_classes-1))\n",
    "        \n",
    "        # Compute slope for each class\n",
    "        # self.slope=[]\n",
    "        # for i in range(n_classes):\n",
    "        #     self.slope.append(self.mean_vectors[i].dot(self.w))\n",
    "        # self.slope = np.array(self.slope)\n",
    "        self.slope=self.w[1]/self.w[0]\n",
    "\n",
    "\n",
    "    def predict_using_class_mean(self, X, y, X_test):\n",
    "        num_classes = len(np.unique(y))\n",
    "        y_pred = []\n",
    "        proj_x=np.dot(X_test,self.w.T)\n",
    "        for x_test in X_test:\n",
    "            dist = []\n",
    "            for i in range(num_classes):\n",
    "                mean_vec =self.mean_vectors[i]\n",
    "                dist.append(np.linalg.norm(x_test - mean_vec))\n",
    "            y_pred.append(np.argmin(dist))\n",
    "        return np.array(y_pred)\n",
    "\n",
    "    def predict_using_knn(self, X, y, X_test, k=1):\n",
    "        num_classes = len(np.unique(y))\n",
    "        y_pred = []\n",
    "        proj_x=np.dot(X,self.w.T)\n",
    "        proj_x_test=np.dot(X_test,self.w.T)\n",
    "        for proj_x_test in proj_x_test:\n",
    "            dist = []\n",
    "            for i in range(X.shape[0]):\n",
    "                dist.append(np.linalg.norm(proj_x_test - proj_x[i]))\n",
    "            idx = np.argsort(dist)[:k]\n",
    "            class_counts = np.zeros(num_classes)\n",
    "            for j in idx:\n",
    "                class_counts[int(y[j])] += 1\n",
    "            y_pred.append(np.argmax(class_counts))\n",
    "        return np.array(y_pred)\n",
    "\n",
    "    def show_confusion_matrix(self, y, y_pred):\n",
    "        class_names=['0','1','2']\n",
    "        \n",
    "        zero_zero=0\n",
    "        zero_one=0\n",
    "        zero_two=0\n",
    "        one_zero=0\n",
    "        one_one=0\n",
    "        one_two=0\n",
    "        two_zero=0\n",
    "        two_one=0\n",
    "        two_two=0\n",
    "        \n",
    "\n",
    "        for i in range(1000):\n",
    "            if y_pred[i]==0 :\n",
    "               if y[i]==0:\n",
    "                  zero_zero+=1\n",
    "               elif y[i]==1:\n",
    "                  zero_one+=1\n",
    "               elif y[i]==2:\n",
    "                  zero_two+=1\n",
    "\n",
    "            elif y_pred[i]==1 :\n",
    "               if y[i]==0:\n",
    "                  one_zero+=1\n",
    "               elif y[i]==1:\n",
    "                  one_one+=1\n",
    "               elif y[i]==2:\n",
    "                  one_two+=1\n",
    "\n",
    "            elif y_pred[i]==2:\n",
    "               if y[i]==0:\n",
    "                  two_zero+=1\n",
    "               elif y[i]==1:\n",
    "                  two_one+=1\n",
    "               elif y[i]==2:\n",
    "                  two_two+=1    \n",
    "      # Sample confusion matrix\n",
    "        cm = np.array([[zero_zero,zero_one,zero_two],[one_zero,one_one,one_two],[two_zero,two_one,two_two]])\n",
    "        \n",
    "        # Create a figure and axis object\n",
    "        fig, ax = plt.subplots()\n",
    "\n",
    "        # Plot the confusion matrix using imshow\n",
    "        im = ax.imshow(cm, cmap='Blues')\n",
    "\n",
    "        # Add a colorbar to the plot\n",
    "        cbar = ax.figure.colorbar(im, ax=ax)\n",
    "\n",
    "        # Add axis labels and a title to the plot\n",
    "        ax.set_xlabel('Predicted label')\n",
    "        ax.set_ylabel('True label')\n",
    "        ax.set_title('Confusion Matrix')\n",
    "\n",
    "        # Add tick marks to the plot\n",
    "        tick_marks = np.arange(len(cm))\n",
    "        ax.set_xticks(tick_marks)\n",
    "        ax.set_yticks(tick_marks)\n",
    "\n",
    "        # Add labels to the tick marks\n",
    "        class_labels = ['0', '1','2']\n",
    "        ax.set_xticklabels(class_labels)\n",
    "        ax.set_yticklabels(class_labels)\n",
    "\n",
    "        # Add the actual numbers to the plot\n",
    "        thresh = cm.max() / 2.0\n",
    "        for i in range(cm.shape[0]):\n",
    "            for j in range(cm.shape[1]):\n",
    "                ax.text(j, i, format(cm[i, j], 'd'),\n",
    "                        ha=\"center\", va=\"center\",\n",
    "                        color=\"white\" if cm[i, j] > thresh else \"black\")\n",
    "        \n",
    "        # Show the plot\n",
    "        plt.show()\n",
    "\n",
    "    def plot_projection(self, X, y):\n",
    "        fig = plt.figure(figsize=(7, 7))\n",
    "        ax = fig.add_subplot(1, 1, 1)\n",
    "        intercep = 0\n",
    "        title = \"Projection line: slope = \" + str(self.slope) + \", intercept = \" + str(intercep)\n",
    "        colors = ['tab:red', 'tab:blue','tab:green']\n",
    "        ax.set_title(title)\n",
    "\n",
    "        # Test data points\n",
    "        ax.scatter(X[:, 0], X[:, 1],\n",
    "                s=10,c=y, cmap=matplotlib.colors.ListedColormap(colors))\n",
    "\n",
    "        # Project points\n",
    "        colors_proj = ['red', 'blue','green']\n",
    "        x_proj = np.zeros((len(y)))\n",
    "        y_proj = np.zeros((len(y)))\n",
    "        for i in range(len(y)):\n",
    "            x_proj[i] = (self.w[0]/self.w[1]) * X[i][0] + X[i][1]\n",
    "            x_proj[i] /= (self.w[1]/self.w[0] + self.w[0]/self.w[1])\n",
    "            y_proj[i] = (self.w[1] / self.w[0]) * x_proj[i]\n",
    "            ax.plot([X[i][0], x_proj[i]], [X[i][1], y_proj[i]],\n",
    "                    lw=0.5, alpha=0.1, c='coral')\n",
    "        ax.scatter(x_proj, y_proj,\n",
    "                s=10,c=y, cmap=matplotlib.colors.ListedColormap(colors_proj))\n",
    "\n",
    "        # Projection line\n",
    "        bound = np.linspace(min(x_proj), max(x_proj), 1000)\n",
    "        Y = np.zeros((1000))\n",
    "        for i in range(len(X)):\n",
    "            Y[i] = bound[i] * self.slope + intercep\n",
    "        ax.plot(bound, Y, \"k\")\n",
    "        plt.show()\n",
    "        \n",
    "\n",
    "    def accuracy_score(self, y, y_pred):\n",
    "        return np.mean(y == y_pred)\n",
    "\n"
   ]
  },
  {
   "cell_type": "code",
   "execution_count": 736,
   "metadata": {
    "id": "fNjwTeUD2UAV"
   },
   "outputs": [],
   "source": [
    "class MultiClassLogisticRegression:\n",
    "    \n",
    "    def __init__(self):\n",
    "        \"\"\"\n",
    "            You can add/change any variables/methods to meet your need.\n",
    "        \"\"\"\n",
    "        self.epoch = []\n",
    "        self.train_loss = []\n",
    "        self.weights = None\n",
    "    \n",
    "    def fit(self, X, y, batch_size=16, lr=0.001, epoch=100):\n",
    "        self.class_num=len(np.unique(y))\n",
    "        self.weights=np.zeros((X.shape[1]+1,self.class_num))\n",
    "        X_biased=np.concatenate((X,np.ones((X.shape[0],1))),axis=1)\n",
    "        y_one_hot=self.one_hot_encode(y)\n",
    "\n",
    "        for i in range(epoch) :\n",
    "            for j in range(0,len(X),batch_size):\n",
    "                X_batch=X_biased[j:j+batch_size]\n",
    "                y_batch=y_one_hot[j:j+batch_size]\n",
    "                \n",
    "               \n",
    "                #compute softmax , errors and get gardient\n",
    "                probs=self.softmax(X_batch.dot(self.weights))\n",
    "                errors=y_batch-probs\n",
    "                gradient=-np.dot(X_batch.T,errors)/len(X_batch)\n",
    "\n",
    "\n",
    "                #gradient descent\n",
    "                self.weights-=lr*gradient\n",
    "               \n",
    "            \n",
    "            #compute cross entropy loss at the end of each iteration\n",
    "            train_probs = self.softmax(np.dot(X_biased, self.weights))\n",
    "            train_loss = self.cross_entropy(y_one_hot, train_probs)\n",
    "            self.epoch.append(i+1)\n",
    "            self.train_loss.append(train_loss)\n",
    "\n",
    "\n",
    "    def predict(self, X):\n",
    "        # Predict using maximum likelihood\n",
    "        if X.shape[1]==self.weights.shape[0]-1:\n",
    "           X_biased=np.concatenate((X,np.ones((X.shape[0],1))),axis=1)\n",
    "           return np.argmax(self.softmax(X_biased.dot(self.weights)), axis=1)\n",
    "        return np.argmax(self.softmax(X.dot(self.weights)), axis=1)\n",
    "        \n",
    "\n",
    "    def evaluate(self, X, y):\n",
    "        # return np.mean(self.predict_for_eval(X) == np.argmax(y, axis=1))\n",
    "        X_biased=np.concatenate((X,np.ones((X.shape[0],1))),axis=1)\n",
    "        y_pred=self.predict(X_biased)\n",
    "        acc = self.accuracy_score(y, y_pred)\n",
    "        return acc        \n",
    "\n",
    "    def softmax(self, z):\n",
    "        return np.exp(z) / np.sum(np.exp(z), axis=1).reshape(-1,1) \n",
    "\n",
    "    def cross_entropy(self, y, probs):\n",
    "        return -1 * np.mean(y * np.log(probs))\n",
    "    \n",
    "    def one_hot_encode(self, y):\n",
    "        return np.eye(len(np.unique(y)))[y]\n",
    "  \n",
    "\n",
    "    def accuracy_score(self, y, y_pred):\n",
    "        return np.mean(y == y_pred)\n",
    "    \n",
    "\n",
    "    def show_confusion_matrix(self, X, y):\n",
    "        class_names=['0','1','2']\n",
    "        X_biased=np.concatenate((X,np.ones((X.shape[0],1))),axis=1)\n",
    "        probs=self.softmax(X_biased.dot(self.weights))\n",
    "\n",
    "        zero_zero=0\n",
    "        zero_one=0\n",
    "        zero_two=0\n",
    "        one_zero=0\n",
    "        one_one=0\n",
    "        one_two=0\n",
    "        two_zero=0\n",
    "        two_one=0\n",
    "        two_two=0\n",
    "\n",
    "        y_pred=np.argmax(probs,axis=1)\n",
    "\n",
    "        for i in range(1000):\n",
    "            if y_pred[i]==0 :\n",
    "               if y[i]==0:\n",
    "                  zero_zero+=1\n",
    "               elif y[i]==1:\n",
    "                  zero_one+=1\n",
    "               elif y[i]==2:\n",
    "                  zero_two+=1\n",
    "\n",
    "            elif y_pred[i]==1 :\n",
    "               if y[i]==0:\n",
    "                  one_zero+=1\n",
    "               elif y[i]==1:\n",
    "                  one_one+=1\n",
    "               elif y[i]==2:\n",
    "                  one_two+=1\n",
    "\n",
    "            elif y_pred[i]==2:\n",
    "               if y[i]==0:\n",
    "                  two_zero+=1\n",
    "               elif y[i]==1:\n",
    "                  two_one+=1\n",
    "               elif y[i]==2:\n",
    "                  two_two+=1      \n",
    "\n",
    "            \n",
    "\n",
    "\n",
    "        # Sample confusion matrix\n",
    "        cm = np.array([[zero_zero,zero_one,zero_two],[one_zero,one_one,one_two],[two_zero,two_one,two_two]])\n",
    "        \n",
    "        # Create a figure and axis object\n",
    "        fig, ax = plt.subplots()\n",
    "\n",
    "        # Plot the confusion matrix using imshow\n",
    "        im = ax.imshow(cm, cmap='Blues')\n",
    "\n",
    "        # Add a colorbar to the plot\n",
    "        cbar = ax.figure.colorbar(im, ax=ax)\n",
    "\n",
    "        # Add axis labels and a title to the plot\n",
    "        ax.set_xlabel('Predicted label')\n",
    "        ax.set_ylabel('True label')\n",
    "        ax.set_title('Confusion Matrix')\n",
    "\n",
    "        # Add tick marks to the plot\n",
    "        tick_marks = np.arange(len(cm))\n",
    "        ax.set_xticks(tick_marks)\n",
    "        ax.set_yticks(tick_marks)\n",
    "\n",
    "        # Add labels to the tick marks\n",
    "        class_labels = ['0', '1','2']\n",
    "        ax.set_xticklabels(class_labels)\n",
    "        ax.set_yticklabels(class_labels)\n",
    "\n",
    "        # Add the actual numbers to the plot\n",
    "        thresh = cm.max() / 2.0\n",
    "        for i in range(cm.shape[0]):\n",
    "            for j in range(cm.shape[1]):\n",
    "                ax.text(j, i, format(cm[i, j], 'd'),\n",
    "                        ha=\"center\", va=\"center\",\n",
    "                        color=\"white\" if cm[i, j] > thresh else \"black\")\n",
    "\n",
    "        # Show the plot\n",
    "        plt.show()\n",
    "\n",
    "        \n",
    "\n",
    "\n",
    "    def plot_curve(self):\n",
    "        # self.epoch and self.train_loss may be helpful here. \n",
    "        plt.plot(self.epoch, self.train_loss)\n",
    "        plt.xlabel(\"Epoch\")\n",
    "        plt.ylabel(\"Training Loss\")\n",
    "        plt.show() "
   ]
  },
  {
   "cell_type": "markdown",
   "metadata": {
    "id": "tW-wMhSw8fT8"
   },
   "source": [
    "# Prepare data for Q1 ~ Q12"
   ]
  },
  {
   "cell_type": "code",
   "execution_count": 3,
   "metadata": {
    "id": "k43aGfaQ7TsP"
   },
   "outputs": [],
   "source": [
    "df_train = pd.DataFrame(pd.read_csv(\"./PR_HW2_dataset/PR_HW2_blob_train.csv\"))\n",
    "df_test  = pd.DataFrame(pd.read_csv(\"./PR_HW2_dataset/PR_HW2_blob_test.csv\"))"
   ]
  },
  {
   "cell_type": "code",
   "execution_count": 4,
   "metadata": {
    "id": "2RqHvQCu76Yn"
   },
   "outputs": [
    {
     "name": "stdout",
     "output_type": "stream",
     "text": [
      "X_train (1000, 2)\n",
      "y_train (1000,)\n",
      "X_test (1000, 2)\n",
      "y_test (1000,)\n"
     ]
    }
   ],
   "source": [
    "X_train = df_train[['Feature1', 'Feature2']].to_numpy()\n",
    "y_train = df_train[['Target']].to_numpy().ravel()\n",
    "\n",
    "X_test = df_test[['Feature1', 'Feature2']].to_numpy()\n",
    "y_test = df_test[['Target']].to_numpy().ravel()\n",
    "\n",
    "print(\"X_train\", X_train.shape)\n",
    "print(\"y_train\", y_train.shape)\n",
    "print(\"X_test\",  X_test.shape)\n",
    "print(\"y_test\",  y_test.shape)"
   ]
  },
  {
   "cell_type": "markdown",
   "metadata": {
    "id": "E_HKrHzE8_Sy"
   },
   "source": [
    "# MultiClass Logistic Regression"
   ]
  },
  {
   "cell_type": "code",
   "execution_count": 739,
   "metadata": {
    "id": "xN1uUlEC9FqA"
   },
   "outputs": [],
   "source": [
    "# For Q1\n",
    "lr = 0.001\n",
    "batch_size = 16\n",
    "epoch = 1000\n",
    "\n",
    "logistic_reg = MultiClassLogisticRegression()\n",
    "logistic_reg.fit(X_train, y_train, lr=lr, batch_size=batch_size, epoch=epoch)"
   ]
  },
  {
   "cell_type": "code",
   "execution_count": 740,
   "metadata": {
    "id": "R_Y8kIlQ9Jcz"
   },
   "outputs": [
    {
     "name": "stdout",
     "output_type": "stream",
     "text": [
      "Training acc:  0.897\n"
     ]
    }
   ],
   "source": [
    "# For Q2\n",
    "print('Training acc: ', logistic_reg.evaluate(X_train, y_train))"
   ]
  },
  {
   "cell_type": "code",
   "execution_count": 741,
   "metadata": {
    "id": "TzqioRVD9Jgn"
   },
   "outputs": [
    {
     "name": "stdout",
     "output_type": "stream",
     "text": [
      "Testing acc:  0.883\n"
     ]
    }
   ],
   "source": [
    "# For Q3\n",
    "print('Testing acc: ', logistic_reg.evaluate(X_test, y_test))"
   ]
  },
  {
   "cell_type": "code",
   "execution_count": 742,
   "metadata": {
    "id": "B_BSVWmM9JkX"
   },
   "outputs": [
    {
     "data": {
      "image/png": "[encoded data removed]",
      "text/plain": [
       "<Figure size 432x288 with 1 Axes>"
      ]
     },
     "metadata": {
      "needs_background": "light"
     },
     "output_type": "display_data"
    }
   ],
   "source": [
    "# For Q4\n",
    "logistic_reg.plot_curve()"
   ]
  },
  {
   "cell_type": "code",
   "execution_count": 743,
   "metadata": {
    "id": "r8tAlAPc9JoP"
   },
   "outputs": [
    {
     "data": {
      "image/png": "[encoded data removed]",
      "text/plain": [
       "<Figure size 432x288 with 2 Axes>"
      ]
     },
     "metadata": {
      "needs_background": "light"
     },
     "output_type": "display_data"
    }
   ],
   "source": [
    "# For Q5\n",
    "logistic_reg.show_confusion_matrix(X_test, y_test)"
   ]
  },
  {
   "cell_type": "markdown",
   "metadata": {
    "id": "njoLZK84-sv3"
   },
   "source": [
    "# Fisher's Linear Discriminant Analysis"
   ]
  },
  {
   "cell_type": "code",
   "execution_count": 5,
   "metadata": {
    "id": "i-uhvrbe2mNe"
   },
   "outputs": [],
   "source": [
    "fld = FLD()\n",
    "\n",
    "fld.fit(X_train, y_train)"
   ]
  },
  {
   "cell_type": "code",
   "execution_count": 745,
   "metadata": {
    "id": "t95-qsEl2nl_"
   },
   "outputs": [
    {
     "name": "stdout",
     "output_type": "stream",
     "text": [
      "Class mean vector:  [[-4.17505764  6.35526804]\n",
      " [-9.43385176 -4.87830741]\n",
      " [-2.54454008  7.53144179]]\n"
     ]
    }
   ],
   "source": [
    "# For Q6\n",
    "print(\"Class mean vector: \", fld.mean_vectors)"
   ]
  },
  {
   "cell_type": "code",
   "execution_count": 746,
   "metadata": {
    "id": "czRrdHxV2olM"
   },
   "outputs": [
    {
     "name": "stdout",
     "output_type": "stream",
     "text": [
      "Within-class scatter matrix SW:  [[1052.70745046  -12.5828441 ]\n",
      " [ -12.5828441   971.29686189]]\n"
     ]
    }
   ],
   "source": [
    "# For Q7\n",
    "print(\"Within-class scatter matrix SW: \", fld.sw)\n"
   ]
  },
  {
   "cell_type": "code",
   "execution_count": 747,
   "metadata": {
    "id": "oETHjp4Y2oqg"
   },
   "outputs": [
    {
     "name": "stdout",
     "output_type": "stream",
     "text": [
      "Between-class scatter matrix SB:  [[ 8689.12907035 16344.86572983]\n",
      " [16344.86572983 31372.93949414]]\n"
     ]
    }
   ],
   "source": [
    "# For Q8\n",
    "print(\"Between-class scatter matrix SB: \", fld.sb)"
   ]
  },
  {
   "cell_type": "code",
   "execution_count": 6,
   "metadata": {
    "id": "dRytOEMl2otd"
   },
   "outputs": [
    {
     "name": "stdout",
     "output_type": "stream",
     "text": [
      "W:  [-0.44115384 -0.8974315 ]\n"
     ]
    }
   ],
   "source": [
    "# For Q9\n",
    "print(\"W: \", fld.w)"
   ]
  },
  {
   "cell_type": "code",
   "execution_count": 7,
   "metadata": {
    "id": "Q9XMtITV2owM"
   },
   "outputs": [
    {
     "name": "stdout",
     "output_type": "stream",
     "text": [
      "FLD using class mean, accuracy:  0.886\n"
     ]
    },
    {
     "data": {
      "image/png": "[encoded data removed]",
      "text/plain": [
       "<Figure size 432x288 with 2 Axes>"
      ]
     },
     "metadata": {
      "needs_background": "light"
     },
     "output_type": "display_data"
    }
   ],
   "source": [
    "# For Q10\n",
    "y_pred = fld.predict_using_class_mean(X_train, y_train, X_test)\n",
    "print(\"FLD using class mean, accuracy: \", fld.accuracy_score(y_test, y_pred))\n",
    "\n",
    "fld.show_confusion_matrix(y_test, y_pred)"
   ]
  },
  {
   "cell_type": "code",
   "execution_count": 750,
   "metadata": {
    "id": "7mmAB2BZ2oy5"
   },
   "outputs": [
    {
     "name": "stdout",
     "output_type": "stream",
     "text": [
      "FLD using knn (k=1), accuracy:  0.822\n",
      "FLD using knn (k=2), accuracy:  0.819\n",
      "FLD using knn (k=3), accuracy:  0.843\n",
      "FLD using knn (k=4), accuracy:  0.84\n",
      "FLD using knn (k=5), accuracy:  0.862\n"
     ]
    }
   ],
   "source": [
    "# For Q11\n",
    "y_pred_k1 = fld.predict_using_knn(X_train, y_train, X_test, k=1)\n",
    "print(\"FLD using knn (k=1), accuracy: \", fld.accuracy_score(y_test, y_pred_k1))\n",
    "\n",
    "y_pred_k2 = fld.predict_using_knn(X_train, y_train, X_test, k=2)\n",
    "print(\"FLD using knn (k=2), accuracy: \", fld.accuracy_score(y_test, y_pred_k2))\n",
    "\n",
    "y_pred_k3 = fld.predict_using_knn(X_train, y_train, X_test, k=3)\n",
    "print(\"FLD using knn (k=3), accuracy: \", fld.accuracy_score(y_test, y_pred_k3))\n",
    "\n",
    "y_pred_k4 = fld.predict_using_knn(X_train, y_train, X_test, k=4)\n",
    "print(\"FLD using knn (k=4), accuracy: \", fld.accuracy_score(y_test, y_pred_k4))\n",
    "\n",
    "y_pred_k5 = fld.predict_using_knn(X_train, y_train, X_test, k=5)\n",
    "print(\"FLD using knn (k=5), accuracy: \", fld.accuracy_score(y_test, y_pred_k5))"
   ]
  },
  {
   "cell_type": "code",
   "execution_count": 8,
   "metadata": {
    "id": "uAaGRQkg2o1e"
   },
   "outputs": [
    {
     "data": {
      "image/png": "[encoded data removed]",
      "text/plain": [
       "<Figure size 504x504 with 1 Axes>"
      ]
     },
     "metadata": {
      "needs_background": "light"
     },
     "output_type": "display_data"
    }
   ],
   "source": [
    "# For Q12, using only training data\n",
    "fld.plot_projection(X_train, y_train)"
   ]
  },
  {
   "cell_type": "markdown",
   "metadata": {
    "id": "PDeFV2_uAoL_"
   },
   "source": [
    "# Train your own model on provided dataset.\n",
    "You can only using 1) **Fisher's Linear Discriminant** or 2) **Logistic Regression** that you have implemented above."
   ]
  },
  {
   "cell_type": "code",
   "execution_count": 752,
   "metadata": {
    "id": "0GkkThFyBTN3"
   },
   "outputs": [],
   "source": [
    "df_train = pd.DataFrame(pd.read_csv(\"./PR_HW2_dataset/PR_HW2_train.csv\"))\n",
    "df_val   = pd.DataFrame(pd.read_csv(\"./PR_HW2_dataset/PR_HW2_val.csv\"))\n",
    "df_test  = pd.DataFrame(pd.read_csv(\"./PR_HW2_dataset/PR_HW2_test.csv\"))"
   ]
  },
  {
   "cell_type": "code",
   "execution_count": 753,
   "metadata": {
    "id": "6Si9iL-0BWQS"
   },
   "outputs": [
    {
     "data": {
      "text/html": [
       "<div>\n",
       "<style scoped>\n",
       "    .dataframe tbody tr th:only-of-type {\n",
       "        vertical-align: middle;\n",
       "    }\n",
       "\n",
       "    .dataframe tbody tr th {\n",
       "        vertical-align: top;\n",
       "    }\n",
       "\n",
       "    .dataframe thead th {\n",
       "        text-align: right;\n",
       "    }\n",
       "</style>\n",
       "<table border=\"1\" class=\"dataframe\">\n",
       "  <thead>\n",
       "    <tr style=\"text-align: right;\">\n",
       "      <th></th>\n",
       "      <th>Feature1</th>\n",
       "      <th>Feature2</th>\n",
       "      <th>Feature3</th>\n",
       "      <th>Feature4</th>\n",
       "      <th>Target</th>\n",
       "    </tr>\n",
       "  </thead>\n",
       "  <tbody>\n",
       "    <tr>\n",
       "      <th>0</th>\n",
       "      <td>0.00668</td>\n",
       "      <td>0.00192</td>\n",
       "      <td>0.682</td>\n",
       "      <td>0.996</td>\n",
       "      <td>2.0</td>\n",
       "    </tr>\n",
       "    <tr>\n",
       "      <th>1</th>\n",
       "      <td>0.00680</td>\n",
       "      <td>0.00106</td>\n",
       "      <td>0.503</td>\n",
       "      <td>0.996</td>\n",
       "      <td>1.0</td>\n",
       "    </tr>\n",
       "    <tr>\n",
       "      <th>2</th>\n",
       "      <td>0.00742</td>\n",
       "      <td>0.00106</td>\n",
       "      <td>0.482</td>\n",
       "      <td>0.991</td>\n",
       "      <td>1.0</td>\n",
       "    </tr>\n",
       "    <tr>\n",
       "      <th>3</th>\n",
       "      <td>0.00685</td>\n",
       "      <td>0.00178</td>\n",
       "      <td>0.650</td>\n",
       "      <td>0.998</td>\n",
       "      <td>2.0</td>\n",
       "    </tr>\n",
       "    <tr>\n",
       "      <th>4</th>\n",
       "      <td>0.00680</td>\n",
       "      <td>0.00163</td>\n",
       "      <td>0.623</td>\n",
       "      <td>0.996</td>\n",
       "      <td>2.0</td>\n",
       "    </tr>\n",
       "  </tbody>\n",
       "</table>\n",
       "</div>"
      ],
      "text/plain": [
       "   Feature1  Feature2  Feature3  Feature4  Target\n",
       "0   0.00668   0.00192     0.682     0.996     2.0\n",
       "1   0.00680   0.00106     0.503     0.996     1.0\n",
       "2   0.00742   0.00106     0.482     0.991     1.0\n",
       "3   0.00685   0.00178     0.650     0.998     2.0\n",
       "4   0.00680   0.00163     0.623     0.996     2.0"
      ]
     },
     "execution_count": 753,
     "metadata": {},
     "output_type": "execute_result"
    }
   ],
   "source": [
    "df_train.head()"
   ]
  },
  {
   "cell_type": "code",
   "execution_count": 754,
   "metadata": {},
   "outputs": [
    {
     "data": {
      "text/html": [
       "<div>\n",
       "<style scoped>\n",
       "    .dataframe tbody tr th:only-of-type {\n",
       "        vertical-align: middle;\n",
       "    }\n",
       "\n",
       "    .dataframe tbody tr th {\n",
       "        vertical-align: top;\n",
       "    }\n",
       "\n",
       "    .dataframe thead th {\n",
       "        text-align: right;\n",
       "    }\n",
       "</style>\n",
       "<table border=\"1\" class=\"dataframe\">\n",
       "  <thead>\n",
       "    <tr style=\"text-align: right;\">\n",
       "      <th></th>\n",
       "      <th>Feature1</th>\n",
       "      <th>Feature2</th>\n",
       "      <th>Feature3</th>\n",
       "      <th>Feature4</th>\n",
       "      <th>Target</th>\n",
       "    </tr>\n",
       "  </thead>\n",
       "  <tbody>\n",
       "    <tr>\n",
       "      <th>Feature1</th>\n",
       "      <td>1.000000</td>\n",
       "      <td>0.532584</td>\n",
       "      <td>0.224169</td>\n",
       "      <td>0.214851</td>\n",
       "      <td>-0.657016</td>\n",
       "    </tr>\n",
       "    <tr>\n",
       "      <th>Feature2</th>\n",
       "      <td>0.532584</td>\n",
       "      <td>1.000000</td>\n",
       "      <td>0.938422</td>\n",
       "      <td>0.431155</td>\n",
       "      <td>-0.477465</td>\n",
       "    </tr>\n",
       "    <tr>\n",
       "      <th>Feature3</th>\n",
       "      <td>0.224169</td>\n",
       "      <td>0.938422</td>\n",
       "      <td>1.000000</td>\n",
       "      <td>0.421574</td>\n",
       "      <td>-0.265032</td>\n",
       "    </tr>\n",
       "    <tr>\n",
       "      <th>Feature4</th>\n",
       "      <td>0.214851</td>\n",
       "      <td>0.431155</td>\n",
       "      <td>0.421574</td>\n",
       "      <td>1.000000</td>\n",
       "      <td>-0.215316</td>\n",
       "    </tr>\n",
       "    <tr>\n",
       "      <th>Target</th>\n",
       "      <td>-0.657016</td>\n",
       "      <td>-0.477465</td>\n",
       "      <td>-0.265032</td>\n",
       "      <td>-0.215316</td>\n",
       "      <td>1.000000</td>\n",
       "    </tr>\n",
       "  </tbody>\n",
       "</table>\n",
       "</div>"
      ],
      "text/plain": [
       "          Feature1  Feature2  Feature3  Feature4    Target\n",
       "Feature1  1.000000  0.532584  0.224169  0.214851 -0.657016\n",
       "Feature2  0.532584  1.000000  0.938422  0.431155 -0.477465\n",
       "Feature3  0.224169  0.938422  1.000000  0.421574 -0.265032\n",
       "Feature4  0.214851  0.431155  0.421574  1.000000 -0.215316\n",
       "Target   -0.657016 -0.477465 -0.265032 -0.215316  1.000000"
      ]
     },
     "execution_count": 754,
     "metadata": {},
     "output_type": "execute_result"
    }
   ],
   "source": [
    "df_train.corr()"
   ]
  },
  {
   "cell_type": "code",
   "execution_count": 755,
   "metadata": {
    "id": "qw1B1bIkBdN4"
   },
   "outputs": [
    {
     "data": {
      "text/html": [
       "<div>\n",
       "<style scoped>\n",
       "    .dataframe tbody tr th:only-of-type {\n",
       "        vertical-align: middle;\n",
       "    }\n",
       "\n",
       "    .dataframe tbody tr th {\n",
       "        vertical-align: top;\n",
       "    }\n",
       "\n",
       "    .dataframe thead th {\n",
       "        text-align: right;\n",
       "    }\n",
       "</style>\n",
       "<table border=\"1\" class=\"dataframe\">\n",
       "  <thead>\n",
       "    <tr style=\"text-align: right;\">\n",
       "      <th></th>\n",
       "      <th>Feature1</th>\n",
       "      <th>Feature2</th>\n",
       "      <th>Feature3</th>\n",
       "      <th>Feature4</th>\n",
       "      <th>Target</th>\n",
       "    </tr>\n",
       "  </thead>\n",
       "  <tbody>\n",
       "    <tr>\n",
       "      <th>0</th>\n",
       "      <td>0.00699</td>\n",
       "      <td>0.000877</td>\n",
       "      <td>0.451</td>\n",
       "      <td>0.994</td>\n",
       "      <td>NaN</td>\n",
       "    </tr>\n",
       "    <tr>\n",
       "      <th>1</th>\n",
       "      <td>0.00736</td>\n",
       "      <td>0.001370</td>\n",
       "      <td>0.549</td>\n",
       "      <td>0.998</td>\n",
       "      <td>NaN</td>\n",
       "    </tr>\n",
       "    <tr>\n",
       "      <th>2</th>\n",
       "      <td>0.00687</td>\n",
       "      <td>0.001420</td>\n",
       "      <td>0.580</td>\n",
       "      <td>0.992</td>\n",
       "      <td>NaN</td>\n",
       "    </tr>\n",
       "    <tr>\n",
       "      <th>3</th>\n",
       "      <td>0.00752</td>\n",
       "      <td>0.002520</td>\n",
       "      <td>0.737</td>\n",
       "      <td>0.996</td>\n",
       "      <td>NaN</td>\n",
       "    </tr>\n",
       "    <tr>\n",
       "      <th>4</th>\n",
       "      <td>0.00685</td>\n",
       "      <td>0.000910</td>\n",
       "      <td>0.464</td>\n",
       "      <td>0.992</td>\n",
       "      <td>NaN</td>\n",
       "    </tr>\n",
       "  </tbody>\n",
       "</table>\n",
       "</div>"
      ],
      "text/plain": [
       "   Feature1  Feature2  Feature3  Feature4  Target\n",
       "0   0.00699  0.000877     0.451     0.994     NaN\n",
       "1   0.00736  0.001370     0.549     0.998     NaN\n",
       "2   0.00687  0.001420     0.580     0.992     NaN\n",
       "3   0.00752  0.002520     0.737     0.996     NaN\n",
       "4   0.00685  0.000910     0.464     0.992     NaN"
      ]
     },
     "execution_count": 755,
     "metadata": {},
     "output_type": "execute_result"
    }
   ],
   "source": [
    "df_test.head()"
   ]
  },
  {
   "cell_type": "code",
   "execution_count": 756,
   "metadata": {
    "id": "tDeQjZsuDagp"
   },
   "outputs": [
    {
     "name": "stdout",
     "output_type": "stream",
     "text": [
      "after norm\n",
      "    Feature1  Feature2  Feature3  Feature4\n",
      "0 -0.824234  0.355177  0.782318  0.188953\n",
      "1 -0.645546 -1.355195 -1.391151  0.188953\n",
      "2  0.277677 -1.355195 -1.646139 -1.016241\n",
      "3 -0.571093  0.076745  0.393765  0.671030\n",
      "4 -0.645546 -0.221576  0.065923  0.188953\n",
      "   Feature1  Feature2  Feature3  Feature4  Feature1^2  Feature1 Feature2  \\\n",
      "0 -0.824234  0.355177  0.782318  0.188953    0.679362          -0.292749   \n",
      "1 -0.645546 -1.355195 -1.391151  0.188953    0.416730           0.874841   \n",
      "2  0.277677 -1.355195 -1.646139 -1.016241    0.077104          -0.376306   \n",
      "3 -0.571093  0.076745  0.393765  0.671030    0.326147          -0.043828   \n",
      "4 -0.645546 -0.221576  0.065923  0.188953    0.416730           0.143038   \n",
      "\n",
      "   Feature1 Feature3  Feature1 Feature4  Feature2^2  Feature2 Feature3  \\\n",
      "0          -0.644814          -0.155741    0.126151           0.277862   \n",
      "1           0.898052          -0.121978    1.836552           1.885280   \n",
      "2          -0.457095          -0.282187    1.836552           2.230839   \n",
      "3          -0.224876          -0.383221    0.005890           0.030219   \n",
      "4          -0.042557          -0.121978    0.049096          -0.014607   \n",
      "\n",
      "   Feature2 Feature4  Feature3^2  Feature3 Feature4  Feature4^2  \n",
      "0           0.067112    0.612022           0.147821    0.035703  \n",
      "1          -0.256068    1.935301          -0.262862    0.035703  \n",
      "2           1.377204    2.709773           1.672874    1.032746  \n",
      "3           0.051498    0.155051           0.264228    0.450282  \n",
      "4          -0.041867    0.004346           0.012456    0.035703  \n"
     ]
    }
   ],
   "source": [
    "# Data processing\n",
    "x_train = df_train.drop(['Target'], axis=1)\n",
    "y_train = df_train['Target']\n",
    "\n",
    "x_val = df_val.drop(['Target'], axis=1)\n",
    "y_val = df_val['Target']\n",
    "\n",
    "x_test = df_test.drop(['Target'], axis=1)\n",
    "\n",
    "# print(\"before norm\\n\",x_train.head())\n",
    "\n",
    "\n",
    "def z_score_normalization(df, cols):\n",
    "    df_normalized = df.copy() \n",
    "    for col in cols:\n",
    "        col_data = df_normalized[col].copy()\n",
    "        mu = col_data.mean()\n",
    "        std = col_data.std()\n",
    "        \n",
    "        z_score_normalized = (col_data - mu) / std\n",
    "        df_normalized[col] = z_score_normalized\n",
    "    return df_normalized\n",
    "    \n",
    "# x_train_normalized = pd.DataFrame(z_score_normalization(x_train, \n",
    "#                                                 x_train.keys()))\n",
    "\n",
    "def poly_expand(dataframe):\n",
    "    dataframe['Feature1^2']=dataframe['Feature1']**2\n",
    "    dataframe['Feature1 Feature2']=dataframe['Feature1']*dataframe['Feature2']\n",
    "    dataframe['Feature1 Feature3']=dataframe['Feature1']*dataframe['Feature3']\n",
    "    dataframe['Feature1 Feature4']=dataframe['Feature1']*dataframe['Feature4']\n",
    "    dataframe['Feature2^2']=dataframe['Feature2']**2\n",
    "    dataframe['Feature2 Feature3']=dataframe['Feature2']*dataframe['Feature3']\n",
    "    dataframe['Feature2 Feature4']=dataframe['Feature2']*dataframe['Feature4']\n",
    "    dataframe['Feature3^2']=dataframe['Feature3']**2\n",
    "    dataframe['Feature3 Feature4']=dataframe['Feature3']*dataframe['Feature4']\n",
    "    dataframe['Feature4^2']=dataframe['Feature4']**2\n",
    "    return dataframe\n",
    "\n",
    "x_train_norm=z_score_normalization(x_train,x_train.keys())\n",
    "x_val_norm=z_score_normalization(x_val,x_val.keys())\n",
    "x_test_norm=z_score_normalization(x_test,x_test.keys())\n",
    "print('after norm\\n',x_train_norm.head())\n",
    "\n",
    "new_x_train=poly_expand(x_train_norm)\n",
    "new_x_val=poly_expand(x_val_norm)\n",
    "new_x_test=poly_expand(x_test_norm)\n",
    "print(new_x_train.head())\n",
    "\n",
    "# Refer to section \"Prepare data for Q1 ~ Q12\""
   ]
  },
  {
   "cell_type": "code",
   "execution_count": 757,
   "metadata": {},
   "outputs": [
    {
     "name": "stdout",
     "output_type": "stream",
     "text": [
      "[[-0.82423445  0.35517739  0.78231831 ...  0.61202193  0.14782129\n",
      "   0.03570319]\n",
      " [-0.64554612 -1.35519463 -1.39115093 ...  1.93530092 -0.26286197\n",
      "   0.03570319]\n",
      " [ 0.2776769  -1.35519463 -1.64613895 ...  2.70977343  1.67287378\n",
      "   1.03274563]\n",
      " ...\n",
      " [-0.28816947 -0.26135206 -0.10406859 ...  0.01083027  0.0054205\n",
      "   0.00271294]\n",
      " [-0.48174849  0.07674474  0.345196   ...  0.11916028 -0.01797984\n",
      "   0.00271294]\n",
      " [ 1.17111854  0.9518188   0.63661087 ...  0.4052734  -0.49350213\n",
      "   0.60093841]]\n"
     ]
    }
   ],
   "source": [
    "new_x_train=new_x_train.to_numpy()\n",
    "y_train=y_train.to_numpy().ravel().astype(int)\n",
    "\n",
    "new_x_val=new_x_val.to_numpy()\n",
    "y_val=y_val.to_numpy().ravel().astype(int)\n",
    "\n",
    "new_x_test=new_x_test.to_numpy()\n",
    "\n",
    "print(new_x_train)"
   ]
  },
  {
   "cell_type": "code",
   "execution_count": 758,
   "metadata": {
    "id": "p9vEErR9Bf_a"
   },
   "outputs": [
    {
     "ename": "KeyboardInterrupt",
     "evalue": "",
     "output_type": "error",
     "traceback": [
      "\u001b[0;31m---------------------------------------------------------------------------\u001b[0m",
      "\u001b[0;31mKeyboardInterrupt\u001b[0m                         Traceback (most recent call last)",
      "\u001b[1;32m/Users/bohanlin/Desktop/Pattern_Recognition/hw2/311552034_HW2.ipynb Cell 29\u001b[0m in \u001b[0;36m<cell line: 7>\u001b[0;34m()\u001b[0m\n\u001b[1;32m      <a href='vscode-notebook-cell:/Users/bohanlin/Desktop/Pattern_Recognition/hw2/311552034_HW2.ipynb#Y110sZmlsZQ%3D%3D?line=3'>4</a>\u001b[0m epoch \u001b[39m=\u001b[39m \u001b[39m600000\u001b[39m\n\u001b[1;32m      <a href='vscode-notebook-cell:/Users/bohanlin/Desktop/Pattern_Recognition/hw2/311552034_HW2.ipynb#Y110sZmlsZQ%3D%3D?line=5'>6</a>\u001b[0m my_model\u001b[39m=\u001b[39m MultiClassLogisticRegression()\n\u001b[0;32m----> <a href='vscode-notebook-cell:/Users/bohanlin/Desktop/Pattern_Recognition/hw2/311552034_HW2.ipynb#Y110sZmlsZQ%3D%3D?line=6'>7</a>\u001b[0m my_model\u001b[39m.\u001b[39;49mfit(new_x_train, y_train, lr\u001b[39m=\u001b[39;49mlr, batch_size\u001b[39m=\u001b[39;49mbatch_size, epoch\u001b[39m=\u001b[39;49mepoch)\n",
      "\u001b[1;32m/Users/bohanlin/Desktop/Pattern_Recognition/hw2/311552034_HW2.ipynb Cell 29\u001b[0m in \u001b[0;36mMultiClassLogisticRegression.fit\u001b[0;34m(self, X, y, batch_size, lr, epoch)\u001b[0m\n\u001b[1;32m     <a href='vscode-notebook-cell:/Users/bohanlin/Desktop/Pattern_Recognition/hw2/311552034_HW2.ipynb#Y110sZmlsZQ%3D%3D?line=19'>20</a>\u001b[0m y_batch\u001b[39m=\u001b[39my_one_hot[j:j\u001b[39m+\u001b[39mbatch_size]\n\u001b[1;32m     <a href='vscode-notebook-cell:/Users/bohanlin/Desktop/Pattern_Recognition/hw2/311552034_HW2.ipynb#Y110sZmlsZQ%3D%3D?line=22'>23</a>\u001b[0m \u001b[39m#compute softmax , errors and get gardient\u001b[39;00m\n\u001b[0;32m---> <a href='vscode-notebook-cell:/Users/bohanlin/Desktop/Pattern_Recognition/hw2/311552034_HW2.ipynb#Y110sZmlsZQ%3D%3D?line=23'>24</a>\u001b[0m probs\u001b[39m=\u001b[39m\u001b[39mself\u001b[39;49m\u001b[39m.\u001b[39;49msoftmax(X_batch\u001b[39m.\u001b[39;49mdot(\u001b[39mself\u001b[39;49m\u001b[39m.\u001b[39;49mweights))\n\u001b[1;32m     <a href='vscode-notebook-cell:/Users/bohanlin/Desktop/Pattern_Recognition/hw2/311552034_HW2.ipynb#Y110sZmlsZQ%3D%3D?line=24'>25</a>\u001b[0m errors\u001b[39m=\u001b[39my_batch\u001b[39m-\u001b[39mprobs\n\u001b[1;32m     <a href='vscode-notebook-cell:/Users/bohanlin/Desktop/Pattern_Recognition/hw2/311552034_HW2.ipynb#Y110sZmlsZQ%3D%3D?line=25'>26</a>\u001b[0m gradient\u001b[39m=\u001b[39m\u001b[39m-\u001b[39mnp\u001b[39m.\u001b[39mdot(X_batch\u001b[39m.\u001b[39mT,errors)\u001b[39m/\u001b[39m\u001b[39mlen\u001b[39m(X_batch)\n",
      "\u001b[1;32m/Users/bohanlin/Desktop/Pattern_Recognition/hw2/311552034_HW2.ipynb Cell 29\u001b[0m in \u001b[0;36mMultiClassLogisticRegression.softmax\u001b[0;34m(self, z)\u001b[0m\n\u001b[1;32m     <a href='vscode-notebook-cell:/Users/bohanlin/Desktop/Pattern_Recognition/hw2/311552034_HW2.ipynb#Y110sZmlsZQ%3D%3D?line=54'>55</a>\u001b[0m \u001b[39mdef\u001b[39;00m \u001b[39msoftmax\u001b[39m(\u001b[39mself\u001b[39m, z):\n\u001b[0;32m---> <a href='vscode-notebook-cell:/Users/bohanlin/Desktop/Pattern_Recognition/hw2/311552034_HW2.ipynb#Y110sZmlsZQ%3D%3D?line=55'>56</a>\u001b[0m     \u001b[39mreturn\u001b[39;00m np\u001b[39m.\u001b[39mexp(z) \u001b[39m/\u001b[39m np\u001b[39m.\u001b[39;49msum(np\u001b[39m.\u001b[39;49mexp(z), axis\u001b[39m=\u001b[39;49m\u001b[39m1\u001b[39;49m)\u001b[39m.\u001b[39mreshape(\u001b[39m-\u001b[39m\u001b[39m1\u001b[39m,\u001b[39m1\u001b[39m)\n",
      "File \u001b[0;32m<__array_function__ internals>:5\u001b[0m, in \u001b[0;36msum\u001b[0;34m(*args, **kwargs)\u001b[0m\n",
      "File \u001b[0;32m~/opt/anaconda3/lib/python3.9/site-packages/numpy/core/fromnumeric.py:2259\u001b[0m, in \u001b[0;36msum\u001b[0;34m(a, axis, dtype, out, keepdims, initial, where)\u001b[0m\n\u001b[1;32m   2256\u001b[0m         \u001b[39mreturn\u001b[39;00m out\n\u001b[1;32m   2257\u001b[0m     \u001b[39mreturn\u001b[39;00m res\n\u001b[0;32m-> 2259\u001b[0m \u001b[39mreturn\u001b[39;00m _wrapreduction(a, np\u001b[39m.\u001b[39;49madd, \u001b[39m'\u001b[39;49m\u001b[39msum\u001b[39;49m\u001b[39m'\u001b[39;49m, axis, dtype, out, keepdims\u001b[39m=\u001b[39;49mkeepdims,\n\u001b[1;32m   2260\u001b[0m                       initial\u001b[39m=\u001b[39;49minitial, where\u001b[39m=\u001b[39;49mwhere)\n",
      "File \u001b[0;32m~/opt/anaconda3/lib/python3.9/site-packages/numpy/core/fromnumeric.py:86\u001b[0m, in \u001b[0;36m_wrapreduction\u001b[0;34m(obj, ufunc, method, axis, dtype, out, **kwargs)\u001b[0m\n\u001b[1;32m     83\u001b[0m         \u001b[39melse\u001b[39;00m:\n\u001b[1;32m     84\u001b[0m             \u001b[39mreturn\u001b[39;00m reduction(axis\u001b[39m=\u001b[39maxis, out\u001b[39m=\u001b[39mout, \u001b[39m*\u001b[39m\u001b[39m*\u001b[39mpasskwargs)\n\u001b[0;32m---> 86\u001b[0m \u001b[39mreturn\u001b[39;00m ufunc\u001b[39m.\u001b[39;49mreduce(obj, axis, dtype, out, \u001b[39m*\u001b[39;49m\u001b[39m*\u001b[39;49mpasskwargs)\n",
      "\u001b[0;31mKeyboardInterrupt\u001b[0m: "
     ]
    }
   ],
   "source": [
    "# Train your model here\n",
    "lr = 0.0055\n",
    "batch_size = 1000\n",
    "epoch = 600000\n",
    "\n",
    "my_model= MultiClassLogisticRegression()\n",
    "my_model.fit(new_x_train, y_train, lr=lr, batch_size=batch_size, epoch=epoch)\n",
    "\n",
    "\n",
    "# your_model = ..."
   ]
  },
  {
   "cell_type": "code",
   "execution_count": null,
   "metadata": {},
   "outputs": [
    {
     "name": "stdout",
     "output_type": "stream",
     "text": [
      "Training acc:  0.9213153258954786\n",
      "Validation acc:  0.910958904109589\n"
     ]
    }
   ],
   "source": [
    "print('Training acc: ', my_model.evaluate(new_x_train, y_train))\n",
    "print('Validation acc: ',my_model.evaluate(new_x_val, y_val))"
   ]
  },
  {
   "cell_type": "code",
   "execution_count": null,
   "metadata": {
    "id": "68NrvUPsBsy8"
   },
   "outputs": [
    {
     "name": "stdout",
     "output_type": "stream",
     "text": [
      "test_pred shape:  (5677,)\n"
     ]
    }
   ],
   "source": [
    "test_pred = my_model.predict(new_x_test)\n",
    "print(\"test_pred shape: \", test_pred.shape)"
   ]
  },
  {
   "cell_type": "markdown",
   "metadata": {
    "id": "LBTMFtdlB55p"
   },
   "source": [
    "# Output the csv file"
   ]
  },
  {
   "cell_type": "code",
   "execution_count": null,
   "metadata": {
    "id": "C2OL-EI2B3ja"
   },
   "outputs": [],
   "source": [
    "# For Q13\n",
    "df_test = pd.DataFrame(pd.read_csv(\"./PR_HW2_dataset/PR_HW2_test.csv\"))\n",
    "df_test[\"Target\"] = test_pred\n",
    "df_test.to_csv(\"311552034_prediction.csv\")"
   ]
  }
 ],
 "metadata": {
  "colab": {
   "provenance": []
  },
  "kernelspec": {
   "display_name": "Python 3 (ipykernel)",
   "language": "python",
   "name": "python3"
  },
  "language_info": {
   "codemirror_mode": {
    "name": "ipython",
    "version": 3
   },
   "file_extension": ".py",
   "mimetype": "text/x-python",
   "name": "python",
   "nbconvert_exporter": "python",
   "pygments_lexer": "ipython3",
   "version": "3.9.12"
  },
  "vscode": {
   "interpreter": {
    "hash": "2dafc9818e2680afefcb30271426368bee6f11cde5b82a7c0b85f0135f5a01d1"
   }
  }
 },
 "nbformat": 4,
 "nbformat_minor": 1
}
